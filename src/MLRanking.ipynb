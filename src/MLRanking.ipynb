{
  "nbformat": 4,
  "nbformat_minor": 0,
  "metadata": {
    "colab": {
      "name": "MLRanking.ipynb",
      "provenance": [],
      "collapsed_sections": [],
      "toc_visible": true
    },
    "kernelspec": {
      "name": "python3",
      "display_name": "Python 3"
    }
  },
  "cells": [
    {
      "cell_type": "markdown",
      "metadata": {
        "id": "0qesHlWDmzVS",
        "colab_type": "text"
      },
      "source": [
        "## Imports"
      ]
    },
    {
      "cell_type": "code",
      "metadata": {
        "id": "R2rm41sQmyig",
        "colab_type": "code",
        "colab": {}
      },
      "source": [
        "import csv\n",
        "import numpy as np\n",
        "from random import randint"
      ],
      "execution_count": 0,
      "outputs": []
    },
    {
      "cell_type": "code",
      "metadata": {
        "id": "HmydZ6wJmYDT",
        "colab_type": "code",
        "outputId": "94a3151a-0844-4eb7-99a9-d210a634070d",
        "colab": {
          "base_uri": "https://localhost:8080/",
          "height": 122
        }
      },
      "source": [
        "from google.colab import drive\n",
        "drive.mount('/content/drive')"
      ],
      "execution_count": 2,
      "outputs": [
        {
          "output_type": "stream",
          "text": [
            "Go to this URL in a browser: https://accounts.google.com/o/oauth2/auth?client_id=947318989803-6bn6qk8qdgf4n4g3pfee6491hc0brc4i.apps.googleusercontent.com&redirect_uri=urn%3aietf%3awg%3aoauth%3a2.0%3aoob&response_type=code&scope=email%20https%3a%2f%2fwww.googleapis.com%2fauth%2fdocs.test%20https%3a%2f%2fwww.googleapis.com%2fauth%2fdrive%20https%3a%2f%2fwww.googleapis.com%2fauth%2fdrive.photos.readonly%20https%3a%2f%2fwww.googleapis.com%2fauth%2fpeopleapi.readonly\n",
            "\n",
            "Enter your authorization code:\n",
            "··········\n",
            "Mounted at /content/drive\n"
          ],
          "name": "stdout"
        }
      ]
    },
    {
      "cell_type": "markdown",
      "metadata": {
        "id": "eOKBwJ0do-fs",
        "colab_type": "text"
      },
      "source": [
        "## Utils"
      ]
    },
    {
      "cell_type": "code",
      "metadata": {
        "id": "AnrOkra1qVUP",
        "colab_type": "code",
        "colab": {}
      },
      "source": [
        "MIN_SCORE = 3\n",
        "MAX_SCORE = 8\n",
        "USERS_NO = 25"
      ],
      "execution_count": 0,
      "outputs": []
    },
    {
      "cell_type": "code",
      "metadata": {
        "id": "WNNayKd8o_lH",
        "colab_type": "code",
        "colab": {}
      },
      "source": [
        "def getScore(name, queryWords):\n",
        "  numberOfOcurrences = 0\n",
        "\n",
        "  for queryWord in queryWords:\n",
        "    if (name.lower().find(queryWord) != -1):\n",
        "      numberOfOcurrences += randint(MIN_SCORE, MAX_SCORE)\n",
        "\n",
        "  return numberOfOcurrences"
      ],
      "execution_count": 0,
      "outputs": []
    },
    {
      "cell_type": "code",
      "metadata": {
        "id": "VSF44zFSvTvr",
        "colab_type": "code",
        "colab": {}
      },
      "source": [
        "DEFAULT_VALUE = -1\n",
        "\n",
        "def getSortedScores(namesScores):\n",
        "  counter = 1\n",
        "  namesScoresCopy = namesScores.copy()\n",
        "  sortedScores = namesScores.copy()\n",
        "\n",
        "  maximum = max(namesScoresCopy)\n",
        "  while (maximum != DEFAULT_VALUE):\n",
        "    index = namesScoresCopy.index(maximum)\n",
        "    \n",
        "    namesScoresCopy[index] = DEFAULT_VALUE\n",
        "    sortedScores[index] = counter\n",
        "\n",
        "    counter += 1\n",
        "    maximum = max(namesScoresCopy)\n",
        "\n",
        "  return sortedScores"
      ],
      "execution_count": 0,
      "outputs": []
    },
    {
      "cell_type": "code",
      "metadata": {
        "id": "5AP3t3Y7wh-V",
        "colab_type": "code",
        "outputId": "944a5013-d993-46b0-bf7e-a3ecff04b280",
        "colab": {
          "base_uri": "https://localhost:8080/",
          "height": 51
        }
      },
      "source": [
        "x = [0, 7, 7, 2]\n",
        "print(getSortedScores(x))\n",
        "print(x)"
      ],
      "execution_count": 6,
      "outputs": [
        {
          "output_type": "stream",
          "text": [
            "[4, 1, 2, 3]\n",
            "[0, 7, 7, 2]\n"
          ],
          "name": "stdout"
        }
      ]
    },
    {
      "cell_type": "markdown",
      "metadata": {
        "id": "Sioz5fTBm3F8",
        "colab_type": "text"
      },
      "source": [
        "## Read dataset"
      ]
    },
    {
      "cell_type": "code",
      "metadata": {
        "id": "rNJIrBfem672",
        "colab_type": "code",
        "colab": {}
      },
      "source": [
        "ids = []\n",
        "names = []\n",
        "\n",
        "with open('/content/drive/My Drive/Colab Notebooks/MLRanking/dataset_1.csv') as csv_file:\n",
        "    csv_reader = csv.reader(csv_file, delimiter=',')\n",
        "\n",
        "    for row in csv_reader:\n",
        "       ids.append(row[0].strip())\n",
        "       names.append(row[1].strip())\n",
        "\n",
        "ids = ids[1:]\n",
        "names = names[1:]"
      ],
      "execution_count": 0,
      "outputs": []
    },
    {
      "cell_type": "code",
      "metadata": {
        "id": "xN9MoNmCrtoj",
        "colab_type": "code",
        "outputId": "e1e01ee8-95f2-4070-a428-99fe06f765e7",
        "colab": {
          "base_uri": "https://localhost:8080/",
          "height": 54
        }
      },
      "source": [
        "print(names)"
      ],
      "execution_count": 10,
      "outputs": [
        {
          "output_type": "stream",
          "text": [
            "['Billrubin total [Presence] in Unspecfied specimen', 'Calcium [Moles/volume] corrected for albumin in Serum or Plasma', 'Bilirubin total [Mass/volume] in Synovial fluid', 'Other Antibiotic [Susceptibility]', 'Vancomycin [Susceptibility]', 'Glucose [Moles/volume] in Serum or Plasma', 'Aspartate aminotransferase [Enzymatic activity/volume] in Serum or Plasma', 'Cefazolln [Susceptibility]', 'Hepatitis B virus DNA [ll/volume] (viral load) in Serum by Probe with signal amplification', 'Albumin [Mass/volume] in Serum or Plasma', 'Methlcillin resistant Staphylococcus aureus [Presence] in Unspecified specimen by Organism specific', 'Glucose [Moles/volume] in Urine', 'Fasting glucose [Mass or Moles/volume] in Serum or Plasma', 'Cholesterol in l-iDL [Mass/volume] in Serum or Plasma', 'Leukocytes [ll/volume] in Blood', 'Blood product disposition [Type]', 'Calcium.ionized [Moles/volume] in Blood', 'Amylase [Enzymatic activity/volume] in Serum or Plasma', 'Bicarbonate [Moles/volume] in Blood', 'Bilirubin total [Mass/volume] in Serum or Plasma', 'Gentamicin [Susceptibility]', 'A80 group [Type] in Blood from Blood product unit', 'Blood product unit ID [ii]', 'Protein C [Mass/volume] in Plasma', 'Chloride [Moles/volume] in Blood', 'Choriogonadotropin beta subunit [Moles/volume] in Serum or Plasma', 'Calcium [Mass/volume] in Serum or Plasma', 'Chloride [Moles/volume] in Serum or Plasma', 'Blood product type', 'Cobalamin (Vitamin B12) [Mass/volume] in Serum', 'Choriogonadotropin [Units/volume] in Serum or Plasma', 'Lymphocytes/100 leukocytes in Blood', 'Glucose [Moles/volume] in Pleural ﬂuid', 'Carbon dioxide total [Moles/volume] in Blood', 'Carbon dioxide total [Moles/volume] in Serum or Plasma', 'Nitrofurantoin [Susceptibility]', 'Cholesterol [Mass/volume] in Serum or Plasma', 'Trimethoprim+Sulfamethoxazole [Susceptibility]', 'Blood group antibody screen [Presence] in Serum or Plasma', 'Glucose [Moles/volume] in Serum or Plasma --3 hours post 100 g glucose PO', 'Cortisol [Mass/volume] in Serum or Plasma', 'Carcinoembryonic Ag [Mass/volume] in Serum or Plasma', 'Bilirubin indirect [Mass/volume] in Serum or Plasma', 'Ciproﬂoxacin [Susceptibility]', 'Alkaline phosphatase [Enzymatic activity/volume] in Serum or Plasma', 'C reactive protein [Mass/volume] in Serum or Plasma', 'Glucose [Mass/volume] in Serum Plasma or Blood', 'Calcium ionized [Moles/volume] in Serum or Plasma', 'Albumin/Globulin [Mass ratio] in Serum or Plasma', 'Levoﬂoxacin [Susceptibility]', 'Bilirubin direct [Mass/volume] in Serum or Plasma', 'Bilirubin indirect [Mass or Moles/volume] in Serum or Plasma', 'ABO group [Type] in Blood', 'indirect antiglobulin test.complement specific reagent [Presence] in Serum or Plasma', 'Calcium bilirubinate/Total in Stone', 'Tyrosine aminotransferase [Mass/volume] in Plasma', 'C reactive protein [Mass/volume] in Serum or Plasma by High sensitivity method', 'Rh [Type] in Blood', 'Lymphocytes [ll/volume] in Blood', 'Body temperature', 'Hematocrit [Volume Fraction] of Blood by Impedance', 'A80 & Rh group [Type] in Blood', 'Monocytes [ll/volume] in Blood', 'Major crossmatch [interpretation]', 'Ampicillin [Susceptibility]', 'Alanine aminotransferase [Enzymatic activity/volume] in Serum or Plasma', 'Ampicilin+Sulbactam [Susceptibility]']\n"
          ],
          "name": "stdout"
        }
      ]
    },
    {
      "cell_type": "markdown",
      "metadata": {
        "id": "pB-6QUjtogeO",
        "colab_type": "text"
      },
      "source": [
        "## Queries Keywords"
      ]
    },
    {
      "cell_type": "code",
      "metadata": {
        "id": "oZX2fTH5opNA",
        "colab_type": "code",
        "colab": {}
      },
      "source": [
        "queriesKeywords = [\n",
        "                  [\"white\", \"blood\", \"cells\", \"count\", \"hemoglobin\", \"plasma\", \"leucocyte\"],\n",
        "                  [\"glucose\", \"blood\", \"sugar\", \"hemoglobin\"],\n",
        "                  [\"bilirubin\", \"plasma\"]\n",
        "                ]"
      ],
      "execution_count": 0,
      "outputs": []
    },
    {
      "cell_type": "code",
      "metadata": {
        "id": "Nf3Iy71Wo8FL",
        "colab_type": "code",
        "outputId": "ad88eab0-a1be-40a9-da06-57bf9c2b5604",
        "colab": {
          "base_uri": "https://localhost:8080/",
          "height": 34
        }
      },
      "source": [
        "getScore(\"white\", queriesKeywords[0])"
      ],
      "execution_count": 11,
      "outputs": [
        {
          "output_type": "execute_result",
          "data": {
            "text/plain": [
              "3"
            ]
          },
          "metadata": {
            "tags": []
          },
          "execution_count": 11
        }
      ]
    },
    {
      "cell_type": "markdown",
      "metadata": {
        "id": "PefIHL6pqnAW",
        "colab_type": "text"
      },
      "source": [
        "## Get N scores per query"
      ]
    },
    {
      "cell_type": "code",
      "metadata": {
        "id": "SADV0Bo-qt0u",
        "colab_type": "code",
        "colab": {}
      },
      "source": [
        "# The format in the dictionary would be \"queryX-userY\": score\n",
        "user_query_scores = {}\n",
        "\n",
        "query_index = 1\n",
        "for query_keywords in queriesKeywords:  \n",
        "  # print(\"Query \" + str(query_index))\n",
        "  # print(query_keywords)\n",
        "  for user_index in range(1, USERS_NO + 1):\n",
        "    names_scores = []\n",
        "    \n",
        "    for name in names:\n",
        "      name_score = getScore(name, query_keywords)\n",
        "      names_scores.append(name_score)\n",
        "    \n",
        "    sorted_scores = getSortedScores(names_scores)\n",
        "    user_query_scores[\"query\" + str(query_index) + \"-user\" + str(user_index)] = sorted_scores\n",
        "\n",
        "    # print(\"User \" + str(user_index) + \": [\" + \",\".join(str(x) for x in names_scores) + \"]\")\n",
        "    # print(\"User \" + str(user_index) + \": [\" + \",\".join(str(x) for x in sorted_scores) + \"]\")\n",
        "  query_index += 1"
      ],
      "execution_count": 0,
      "outputs": []
    },
    {
      "cell_type": "code",
      "metadata": {
        "id": "IUhUOKl2zjJL",
        "colab_type": "code",
        "colab": {
          "base_uri": "https://localhost:8080/",
          "height": 1000
        },
        "outputId": "46f26a24-1b51-4c0a-a881-bf6e4c476d15"
      },
      "source": [
        "user_query_scores[\"query1-user1\"]"
      ],
      "execution_count": 22,
      "outputs": [
        {
          "output_type": "execute_result",
          "data": {
            "text/plain": [
              "[48,\n",
              " 18,\n",
              " 49,\n",
              " 50,\n",
              " 51,\n",
              " 3,\n",
              " 25,\n",
              " 52,\n",
              " 53,\n",
              " 39,\n",
              " 54,\n",
              " 55,\n",
              " 12,\n",
              " 13,\n",
              " 4,\n",
              " 26,\n",
              " 19,\n",
              " 40,\n",
              " 20,\n",
              " 14,\n",
              " 56,\n",
              " 41,\n",
              " 27,\n",
              " 5,\n",
              " 6,\n",
              " 28,\n",
              " 34,\n",
              " 29,\n",
              " 15,\n",
              " 57,\n",
              " 16,\n",
              " 42,\n",
              " 58,\n",
              " 7,\n",
              " 35,\n",
              " 59,\n",
              " 36,\n",
              " 60,\n",
              " 1,\n",
              " 43,\n",
              " 37,\n",
              " 38,\n",
              " 8,\n",
              " 61,\n",
              " 21,\n",
              " 9,\n",
              " 2,\n",
              " 44,\n",
              " 22,\n",
              " 62,\n",
              " 45,\n",
              " 46,\n",
              " 10,\n",
              " 11,\n",
              " 63,\n",
              " 47,\n",
              " 30,\n",
              " 17,\n",
              " 31,\n",
              " 64,\n",
              " 23,\n",
              " 32,\n",
              " 24,\n",
              " 65,\n",
              " 66,\n",
              " 33,\n",
              " 67]"
            ]
          },
          "metadata": {
            "tags": []
          },
          "execution_count": 22
        }
      ]
    },
    {
      "cell_type": "markdown",
      "metadata": {
        "id": "2SShmAERz-kx",
        "colab_type": "text"
      },
      "source": [
        "## Write data"
      ]
    },
    {
      "cell_type": "code",
      "metadata": {
        "id": "IMInvz9z0OkT",
        "colab_type": "code",
        "colab": {}
      },
      "source": [
        "output_file_name = \"dataset_modified\"\n",
        "output_file_ext = \".csv\"\n",
        "output_file_path = \"/content/drive/My Drive/Colab Notebooks/MLRanking/output/\""
      ],
      "execution_count": 0,
      "outputs": []
    },
    {
      "cell_type": "code",
      "metadata": {
        "id": "CPAhO-qp0PSM",
        "colab_type": "code",
        "outputId": "fb442486-7b92-48ec-ac75-4fbb6594b79c",
        "colab": {
          "base_uri": "https://localhost:8080/",
          "height": 1000
        }
      },
      "source": [
        "for i in range(1, 4):\n",
        "  full_output_file_path = output_file_path + output_file_name + str(i) + output_file_ext\n",
        "  with open(full_output_file_path, \"w\") as csv_file:\n",
        "    csv_writer = csv.writer(csv_file)\n",
        "\n",
        "    # Per each row\n",
        "    for index in range(0, len(ids)):\n",
        "      row_dic = {'id': ids[index] }\n",
        "\n",
        "      # Add user score indeex\n",
        "      for key, value in user_query_scores.items():\n",
        "        if (key.startswith(\"query\" + str(i))):\n",
        "          column_name = key[7:]\n",
        "          row_dic[column_name] = value[index]\n",
        "\n",
        "      print(row_dic)\n",
        "      csv_writer.writerow(row_dic.values())      "
      ],
      "execution_count": 21,
      "outputs": [
        {
          "output_type": "stream",
          "text": [
            "{'id': '33870-7', 'user1': 48, 'user2': 48, 'user3': 48, 'user4': 48, 'user5': 48, 'user6': 48, 'user7': 48, 'user8': 48, 'user9': 48, 'user10': 48, 'user11': 48, 'user12': 48, 'user13': 48, 'user14': 48, 'user15': 48, 'user16': 48, 'user17': 48, 'user18': 48, 'user19': 48, 'user20': 48, 'user21': 48, 'user22': 48, 'user23': 48, 'user24': 48, 'user25': 48}\n",
            "{'id': '29265-6', 'user1': 18, 'user2': 25, 'user3': 26, 'user4': 37, 'user5': 41, 'user6': 31, 'user7': 34, 'user8': 37, 'user9': 31, 'user10': 37, 'user11': 3, 'user12': 28, 'user13': 16, 'user14': 3, 'user15': 15, 'user16': 30, 'user17': 42, 'user18': 30, 'user19': 23, 'user20': 20, 'user21': 3, 'user22': 22, 'user23': 28, 'user24': 30, 'user25': 3}\n",
            "{'id': '14423-8', 'user1': 49, 'user2': 49, 'user3': 49, 'user4': 49, 'user5': 49, 'user6': 49, 'user7': 49, 'user8': 49, 'user9': 49, 'user10': 49, 'user11': 49, 'user12': 49, 'user13': 49, 'user14': 49, 'user15': 49, 'user16': 49, 'user17': 49, 'user18': 49, 'user19': 49, 'user20': 49, 'user21': 49, 'user22': 49, 'user23': 49, 'user24': 49, 'user25': 49}\n",
            "{'id': '23658-8', 'user1': 50, 'user2': 50, 'user3': 50, 'user4': 50, 'user5': 50, 'user6': 50, 'user7': 50, 'user8': 50, 'user9': 50, 'user10': 50, 'user11': 50, 'user12': 50, 'user13': 50, 'user14': 50, 'user15': 50, 'user16': 50, 'user17': 50, 'user18': 50, 'user19': 50, 'user20': 50, 'user21': 50, 'user22': 50, 'user23': 50, 'user24': 50, 'user25': 50}\n",
            "{'id': '19000-9', 'user1': 51, 'user2': 51, 'user3': 51, 'user4': 51, 'user5': 51, 'user6': 51, 'user7': 51, 'user8': 51, 'user9': 51, 'user10': 51, 'user11': 51, 'user12': 51, 'user13': 51, 'user14': 51, 'user15': 51, 'user16': 51, 'user17': 51, 'user18': 51, 'user19': 51, 'user20': 51, 'user21': 51, 'user22': 51, 'user23': 51, 'user24': 51, 'user25': 51}\n",
            "{'id': '14749-6', 'user1': 3, 'user2': 26, 'user3': 27, 'user4': 18, 'user5': 32, 'user6': 38, 'user7': 44, 'user8': 16, 'user9': 32, 'user10': 10, 'user11': 8, 'user12': 20, 'user13': 3, 'user14': 31, 'user15': 30, 'user16': 41, 'user17': 8, 'user18': 10, 'user19': 24, 'user20': 2, 'user21': 4, 'user22': 12, 'user23': 29, 'user24': 23, 'user25': 36}\n",
            "{'id': '1920-8', 'user1': 25, 'user2': 3, 'user3': 13, 'user4': 3, 'user5': 42, 'user6': 32, 'user7': 8, 'user8': 27, 'user9': 26, 'user10': 11, 'user11': 40, 'user12': 21, 'user13': 4, 'user14': 12, 'user15': 16, 'user16': 10, 'user17': 43, 'user18': 3, 'user19': 40, 'user20': 3, 'user21': 5, 'user22': 36, 'user23': 30, 'user24': 36, 'user25': 41}\n",
            "{'id': '18878-9', 'user1': 52, 'user2': 52, 'user3': 52, 'user4': 52, 'user5': 52, 'user6': 52, 'user7': 52, 'user8': 52, 'user9': 52, 'user10': 52, 'user11': 52, 'user12': 52, 'user13': 52, 'user14': 52, 'user15': 52, 'user16': 52, 'user17': 52, 'user18': 52, 'user19': 52, 'user20': 52, 'user21': 52, 'user22': 52, 'user23': 52, 'user24': 52, 'user25': 52}\n",
            "{'id': '20442-0', 'user1': 53, 'user2': 53, 'user3': 53, 'user4': 53, 'user5': 53, 'user6': 53, 'user7': 53, 'user8': 53, 'user9': 53, 'user10': 53, 'user11': 53, 'user12': 53, 'user13': 53, 'user14': 53, 'user15': 53, 'user16': 53, 'user17': 53, 'user18': 53, 'user19': 53, 'user20': 53, 'user21': 53, 'user22': 53, 'user23': 53, 'user24': 53, 'user25': 53}\n",
            "{'id': '1751-7', 'user1': 39, 'user2': 41, 'user3': 34, 'user4': 20, 'user5': 3, 'user6': 39, 'user7': 35, 'user8': 8, 'user9': 3, 'user10': 34, 'user11': 31, 'user12': 34, 'user13': 5, 'user14': 42, 'user15': 31, 'user16': 31, 'user17': 44, 'user18': 11, 'user19': 2, 'user20': 4, 'user21': 31, 'user22': 31, 'user23': 42, 'user24': 42, 'user25': 4}\n",
            "{'id': '13317-3', 'user1': 54, 'user2': 54, 'user3': 54, 'user4': 54, 'user5': 54, 'user6': 54, 'user7': 54, 'user8': 54, 'user9': 54, 'user10': 54, 'user11': 54, 'user12': 54, 'user13': 54, 'user14': 54, 'user15': 54, 'user16': 54, 'user17': 54, 'user18': 54, 'user19': 54, 'user20': 54, 'user21': 54, 'user22': 54, 'user23': 54, 'user24': 54, 'user25': 54}\n",
            "{'id': '15076-3', 'user1': 55, 'user2': 55, 'user3': 55, 'user4': 55, 'user5': 55, 'user6': 55, 'user7': 55, 'user8': 55, 'user9': 55, 'user10': 55, 'user11': 55, 'user12': 55, 'user13': 55, 'user14': 55, 'user15': 55, 'user16': 55, 'user17': 55, 'user18': 55, 'user19': 55, 'user20': 55, 'user21': 55, 'user22': 55, 'user23': 55, 'user24': 55, 'user25': 55}\n",
            "{'id': '35184-1', 'user1': 12, 'user2': 30, 'user3': 3, 'user4': 38, 'user5': 24, 'user6': 33, 'user7': 9, 'user8': 19, 'user9': 4, 'user10': 17, 'user11': 24, 'user12': 6, 'user13': 6, 'user14': 4, 'user15': 39, 'user16': 3, 'user17': 9, 'user18': 43, 'user19': 25, 'user20': 21, 'user21': 21, 'user22': 13, 'user23': 31, 'user24': 14, 'user25': 21}\n",
            "{'id': '2085-9', 'user1': 13, 'user2': 31, 'user3': 14, 'user4': 8, 'user5': 8, 'user6': 23, 'user7': 18, 'user8': 38, 'user9': 12, 'user10': 38, 'user11': 25, 'user12': 22, 'user13': 39, 'user14': 37, 'user15': 8, 'user16': 42, 'user17': 33, 'user18': 12, 'user19': 26, 'user20': 32, 'user21': 22, 'user22': 37, 'user23': 12, 'user24': 24, 'user25': 28}\n",
            "{'id': '26464-8', 'user1': 4, 'user2': 15, 'user3': 35, 'user4': 21, 'user5': 43, 'user6': 3, 'user7': 19, 'user8': 28, 'user9': 40, 'user10': 39, 'user11': 9, 'user12': 23, 'user13': 40, 'user14': 13, 'user15': 40, 'user16': 32, 'user17': 18, 'user18': 22, 'user19': 15, 'user20': 41, 'user21': 32, 'user22': 3, 'user23': 3, 'user24': 37, 'user25': 37}\n",
            "{'id': '925-8', 'user1': 26, 'user2': 4, 'user3': 41, 'user4': 9, 'user5': 4, 'user6': 40, 'user7': 20, 'user8': 9, 'user9': 27, 'user10': 35, 'user11': 10, 'user12': 7, 'user13': 23, 'user14': 32, 'user15': 17, 'user16': 11, 'user17': 34, 'user18': 23, 'user19': 3, 'user20': 13, 'user21': 33, 'user22': 4, 'user23': 13, 'user24': 15, 'user25': 29}\n",
            "{'id': '1994-3', 'user1': 19, 'user2': 17, 'user3': 36, 'user4': 22, 'user5': 13, 'user6': 4, 'user7': 10, 'user8': 10, 'user9': 5, 'user10': 12, 'user11': 11, 'user12': 8, 'user13': 10, 'user14': 5, 'user15': 9, 'user16': 33, 'user17': 45, 'user18': 13, 'user19': 41, 'user20': 42, 'user21': 6, 'user22': 23, 'user23': 14, 'user24': 16, 'user25': 14}\n",
            "{'id': '1798-8', 'user1': 40, 'user2': 18, 'user3': 42, 'user4': 23, 'user5': 5, 'user6': 24, 'user7': 21, 'user8': 11, 'user9': 41, 'user10': 36, 'user11': 16, 'user12': 9, 'user13': 28, 'user14': 14, 'user15': 32, 'user16': 34, 'user17': 3, 'user18': 31, 'user19': 16, 'user20': 5, 'user21': 7, 'user22': 32, 'user23': 5, 'user24': 17, 'user25': 42}\n",
            "{'id': '1959-6', 'user1': 20, 'user2': 27, 'user3': 37, 'user4': 10, 'user5': 9, 'user6': 41, 'user7': 36, 'user8': 12, 'user9': 28, 'user10': 40, 'user11': 4, 'user12': 35, 'user13': 11, 'user14': 20, 'user15': 18, 'user16': 4, 'user17': 4, 'user18': 4, 'user19': 4, 'user20': 6, 'user21': 43, 'user22': 38, 'user23': 32, 'user24': 25, 'user25': 15}\n",
            "{'id': '1975-2', 'user1': 14, 'user2': 5, 'user3': 4, 'user4': 24, 'user5': 14, 'user6': 42, 'user7': 11, 'user8': 29, 'user9': 21, 'user10': 18, 'user11': 41, 'user12': 29, 'user13': 7, 'user14': 38, 'user15': 33, 'user16': 35, 'user17': 35, 'user18': 14, 'user19': 17, 'user20': 22, 'user21': 23, 'user22': 5, 'user23': 19, 'user24': 31, 'user25': 30}\n",
            "{'id': '18928-2', 'user1': 56, 'user2': 56, 'user3': 56, 'user4': 56, 'user5': 56, 'user6': 56, 'user7': 56, 'user8': 56, 'user9': 56, 'user10': 56, 'user11': 56, 'user12': 56, 'user13': 56, 'user14': 56, 'user15': 56, 'user16': 56, 'user17': 56, 'user18': 56, 'user19': 56, 'user20': 56, 'user21': 56, 'user22': 56, 'user23': 56, 'user24': 56, 'user25': 56}\n",
            "{'id': '14578-9', 'user1': 41, 'user2': 32, 'user3': 43, 'user4': 25, 'user5': 44, 'user6': 43, 'user7': 22, 'user8': 20, 'user9': 6, 'user10': 3, 'user11': 42, 'user12': 30, 'user13': 17, 'user14': 6, 'user15': 41, 'user16': 5, 'user17': 24, 'user18': 24, 'user19': 18, 'user20': 43, 'user21': 8, 'user22': 14, 'user23': 15, 'user24': 43, 'user25': 22}\n",
            "{'id': '934-0', 'user1': 27, 'user2': 6, 'user3': 15, 'user4': 4, 'user5': 33, 'user6': 34, 'user7': 3, 'user8': 3, 'user9': 13, 'user10': 13, 'user11': 12, 'user12': 10, 'user13': 41, 'user14': 7, 'user15': 10, 'user16': 15, 'user17': 19, 'user18': 44, 'user19': 27, 'user20': 44, 'user21': 40, 'user22': 19, 'user23': 20, 'user24': 3, 'user25': 31}\n",
            "{'id': '4671-4', 'user1': 5, 'user2': 7, 'user3': 5, 'user4': 5, 'user5': 25, 'user6': 10, 'user7': 37, 'user8': 13, 'user9': 7, 'user10': 41, 'user11': 43, 'user12': 43, 'user13': 18, 'user14': 21, 'user15': 42, 'user16': 16, 'user17': 20, 'user18': 25, 'user19': 28, 'user20': 45, 'user21': 14, 'user22': 15, 'user23': 6, 'user24': 26, 'user25': 38}\n",
            "{'id': '2069-3', 'user1': 6, 'user2': 42, 'user3': 6, 'user4': 6, 'user5': 26, 'user6': 15, 'user7': 23, 'user8': 17, 'user9': 33, 'user10': 42, 'user11': 26, 'user12': 44, 'user13': 8, 'user14': 8, 'user15': 19, 'user16': 23, 'user17': 10, 'user18': 45, 'user19': 5, 'user20': 33, 'user21': 24, 'user22': 24, 'user23': 7, 'user24': 32, 'user25': 43}\n",
            "{'id': '2111-3', 'user1': 28, 'user2': 19, 'user3': 16, 'user4': 39, 'user5': 15, 'user6': 16, 'user7': 45, 'user8': 21, 'user9': 34, 'user10': 19, 'user11': 44, 'user12': 24, 'user13': 19, 'user14': 22, 'user15': 25, 'user16': 24, 'user17': 25, 'user18': 5, 'user19': 29, 'user20': 23, 'user21': 44, 'user22': 16, 'user23': 43, 'user24': 38, 'user25': 23}\n",
            "{'id': '17861-6', 'user1': 34, 'user2': 33, 'user3': 38, 'user4': 40, 'user5': 6, 'user6': 25, 'user7': 38, 'user8': 4, 'user9': 35, 'user10': 20, 'user11': 45, 'user12': 11, 'user13': 42, 'user14': 43, 'user15': 34, 'user16': 43, 'user17': 11, 'user18': 36, 'user19': 37, 'user20': 14, 'user21': 25, 'user22': 39, 'user23': 21, 'user24': 39, 'user25': 24}\n",
            "{'id': '2075-0', 'user1': 29, 'user2': 20, 'user3': 11, 'user4': 26, 'user5': 27, 'user6': 44, 'user7': 24, 'user8': 39, 'user9': 22, 'user10': 43, 'user11': 32, 'user12': 25, 'user13': 24, 'user14': 23, 'user15': 26, 'user16': 36, 'user17': 46, 'user18': 37, 'user19': 6, 'user20': 15, 'user21': 41, 'user22': 25, 'user23': 44, 'user24': 4, 'user25': 44}\n",
            "{'id': '933-2', 'user1': 15, 'user2': 21, 'user3': 7, 'user4': 11, 'user5': 16, 'user6': 35, 'user7': 12, 'user8': 5, 'user9': 8, 'user10': 28, 'user11': 5, 'user12': 12, 'user13': 29, 'user14': 44, 'user15': 3, 'user16': 25, 'user17': 26, 'user18': 15, 'user19': 42, 'user20': 24, 'user21': 15, 'user22': 40, 'user23': 8, 'user24': 18, 'user25': 45}\n",
            "{'id': '2132-9', 'user1': 57, 'user2': 57, 'user3': 57, 'user4': 57, 'user5': 57, 'user6': 57, 'user7': 57, 'user8': 57, 'user9': 57, 'user10': 57, 'user11': 57, 'user12': 57, 'user13': 57, 'user14': 57, 'user15': 57, 'user16': 57, 'user17': 57, 'user18': 57, 'user19': 57, 'user20': 57, 'user21': 57, 'user22': 57, 'user23': 57, 'user24': 57, 'user25': 57}\n",
            "{'id': '19080-1', 'user1': 16, 'user2': 8, 'user3': 8, 'user4': 32, 'user5': 45, 'user6': 36, 'user7': 39, 'user8': 30, 'user9': 42, 'user10': 4, 'user11': 27, 'user12': 13, 'user13': 20, 'user14': 15, 'user15': 43, 'user16': 6, 'user17': 5, 'user18': 32, 'user19': 43, 'user20': 7, 'user21': 26, 'user22': 33, 'user23': 33, 'user24': 19, 'user25': 5}\n",
            "{'id': '26478-8', 'user1': 42, 'user2': 16, 'user3': 17, 'user4': 41, 'user5': 34, 'user6': 11, 'user7': 4, 'user8': 22, 'user9': 14, 'user10': 5, 'user11': 13, 'user12': 36, 'user13': 30, 'user14': 16, 'user15': 35, 'user16': 12, 'user17': 47, 'user18': 6, 'user19': 19, 'user20': 16, 'user21': 45, 'user22': 41, 'user23': 9, 'user24': 27, 'user25': 6}\n",
            "{'id': '14747-0', 'user1': 58, 'user2': 58, 'user3': 58, 'user4': 58, 'user5': 58, 'user6': 58, 'user7': 58, 'user8': 58, 'user9': 58, 'user10': 58, 'user11': 58, 'user12': 58, 'user13': 58, 'user14': 58, 'user15': 58, 'user16': 58, 'user17': 58, 'user18': 58, 'user19': 58, 'user20': 58, 'user21': 58, 'user22': 58, 'user23': 58, 'user24': 58, 'user25': 58}\n",
            "{'id': '20565-8', 'user1': 7, 'user2': 34, 'user3': 18, 'user4': 42, 'user5': 28, 'user6': 12, 'user7': 5, 'user8': 40, 'user9': 23, 'user10': 29, 'user11': 33, 'user12': 37, 'user13': 31, 'user14': 9, 'user15': 44, 'user16': 37, 'user17': 27, 'user18': 38, 'user19': 38, 'user20': 25, 'user21': 34, 'user22': 34, 'user23': 34, 'user24': 5, 'user25': 32}\n",
            "{'id': '2028-9', 'user1': 35, 'user2': 35, 'user3': 28, 'user4': 27, 'user5': 29, 'user6': 26, 'user7': 6, 'user8': 31, 'user9': 15, 'user10': 14, 'user11': 17, 'user12': 31, 'user13': 43, 'user14': 39, 'user15': 27, 'user16': 44, 'user17': 6, 'user18': 39, 'user19': 7, 'user20': 26, 'user21': 46, 'user22': 42, 'user23': 35, 'user24': 33, 'user25': 39}\n",
            "{'id': '18955-S', 'user1': 59, 'user2': 59, 'user3': 59, 'user4': 59, 'user5': 59, 'user6': 59, 'user7': 59, 'user8': 59, 'user9': 59, 'user10': 59, 'user11': 59, 'user12': 59, 'user13': 59, 'user14': 59, 'user15': 59, 'user16': 59, 'user17': 59, 'user18': 59, 'user19': 59, 'user20': 59, 'user21': 59, 'user22': 59, 'user23': 59, 'user24': 59, 'user25': 59}\n",
            "{'id': '2093-3', 'user1': 36, 'user2': 36, 'user3': 29, 'user4': 33, 'user5': 35, 'user6': 17, 'user7': 25, 'user8': 23, 'user9': 43, 'user10': 30, 'user11': 18, 'user12': 3, 'user13': 12, 'user14': 10, 'user15': 11, 'user16': 17, 'user17': 36, 'user18': 46, 'user19': 39, 'user20': 34, 'user21': 16, 'user22': 43, 'user23': 45, 'user24': 6, 'user25': 25}\n",
            "{'id': '18998-5', 'user1': 60, 'user2': 60, 'user3': 60, 'user4': 60, 'user5': 60, 'user6': 60, 'user7': 60, 'user8': 60, 'user9': 60, 'user10': 60, 'user11': 60, 'user12': 60, 'user13': 60, 'user14': 60, 'user15': 60, 'user16': 60, 'user17': 60, 'user18': 60, 'user19': 60, 'user20': 60, 'user21': 60, 'user22': 60, 'user23': 60, 'user24': 60, 'user25': 60}\n",
            "{'id': '890-4', 'user1': 1, 'user2': 2, 'user3': 1, 'user4': 2, 'user5': 2, 'user6': 2, 'user7': 1, 'user8': 1, 'user9': 2, 'user10': 2, 'user11': 1, 'user12': 1, 'user13': 2, 'user14': 1, 'user15': 1, 'user16': 1, 'user17': 1, 'user18': 1, 'user19': 1, 'user20': 1, 'user21': 1, 'user22': 1, 'user23': 1, 'user24': 2, 'user25': 1}\n",
            "{'id': '14764-5', 'user1': 43, 'user2': 37, 'user3': 30, 'user4': 12, 'user5': 10, 'user6': 18, 'user7': 40, 'user8': 6, 'user9': 24, 'user10': 21, 'user11': 19, 'user12': 45, 'user13': 32, 'user14': 24, 'user15': 12, 'user16': 18, 'user17': 28, 'user18': 33, 'user19': 20, 'user20': 17, 'user21': 9, 'user22': 17, 'user23': 22, 'user24': 40, 'user25': 33}\n",
            "{'id': '2143-6', 'user1': 37, 'user2': 9, 'user3': 19, 'user4': 43, 'user5': 30, 'user6': 27, 'user7': 41, 'user8': 41, 'user9': 44, 'user10': 6, 'user11': 34, 'user12': 14, 'user13': 44, 'user14': 25, 'user15': 36, 'user16': 7, 'user17': 37, 'user18': 7, 'user19': 45, 'user20': 18, 'user21': 27, 'user22': 6, 'user23': 4, 'user24': 44, 'user25': 7}\n",
            "{'id': '2039-6', 'user1': 38, 'user2': 10, 'user3': 20, 'user4': 44, 'user5': 46, 'user6': 5, 'user7': 28, 'user8': 42, 'user9': 16, 'user10': 31, 'user11': 35, 'user12': 38, 'user13': 25, 'user14': 17, 'user15': 37, 'user16': 38, 'user17': 38, 'user18': 26, 'user19': 8, 'user20': 8, 'user21': 47, 'user22': 44, 'user23': 23, 'user24': 28, 'user25': 16}\n",
            "{'id': '1971-1', 'user1': 8, 'user2': 43, 'user3': 39, 'user4': 34, 'user5': 17, 'user6': 13, 'user7': 29, 'user8': 43, 'user9': 9, 'user10': 44, 'user11': 6, 'user12': 39, 'user13': 21, 'user14': 26, 'user15': 4, 'user16': 45, 'user17': 12, 'user18': 16, 'user19': 9, 'user20': 46, 'user21': 35, 'user22': 26, 'user23': 24, 'user24': 7, 'user25': 34}\n",
            "{'id': '18906-8', 'user1': 61, 'user2': 61, 'user3': 61, 'user4': 61, 'user5': 61, 'user6': 61, 'user7': 61, 'user8': 61, 'user9': 61, 'user10': 61, 'user11': 61, 'user12': 61, 'user13': 61, 'user14': 61, 'user15': 61, 'user16': 61, 'user17': 61, 'user18': 61, 'user19': 61, 'user20': 61, 'user21': 61, 'user22': 61, 'user23': 61, 'user24': 61, 'user25': 61}\n",
            "{'id': '6768-6', 'user1': 21, 'user2': 44, 'user3': 21, 'user4': 13, 'user5': 11, 'user6': 19, 'user7': 30, 'user8': 14, 'user9': 10, 'user10': 7, 'user11': 28, 'user12': 46, 'user13': 22, 'user14': 27, 'user15': 5, 'user16': 26, 'user17': 21, 'user18': 34, 'user19': 46, 'user20': 35, 'user21': 10, 'user22': 20, 'user23': 46, 'user24': 20, 'user25': 8}\n",
            "{'id': '1988-5', 'user1': 9, 'user2': 11, 'user3': 22, 'user4': 35, 'user5': 36, 'user6': 6, 'user7': 42, 'user8': 18, 'user9': 36, 'user10': 45, 'user11': 14, 'user12': 15, 'user13': 13, 'user14': 28, 'user15': 20, 'user16': 13, 'user17': 22, 'user18': 27, 'user19': 10, 'user20': 19, 'user21': 11, 'user22': 35, 'user23': 36, 'user24': 8, 'user25': 17}\n",
            "{'id': '74774-1', 'user1': 2, 'user2': 1, 'user3': 2, 'user4': 1, 'user5': 1, 'user6': 1, 'user7': 2, 'user8': 2, 'user9': 1, 'user10': 1, 'user11': 2, 'user12': 2, 'user13': 1, 'user14': 2, 'user15': 2, 'user16': 2, 'user17': 2, 'user18': 2, 'user19': 11, 'user20': 9, 'user21': 2, 'user22': 2, 'user23': 2, 'user24': 1, 'user25': 2}\n",
            "{'id': '1995-0', 'user1': 44, 'user2': 22, 'user3': 31, 'user4': 28, 'user5': 18, 'user6': 20, 'user7': 13, 'user8': 32, 'user9': 37, 'user10': 46, 'user11': 20, 'user12': 4, 'user13': 33, 'user14': 18, 'user15': 45, 'user16': 14, 'user17': 39, 'user18': 28, 'user19': 21, 'user20': 27, 'user21': 17, 'user22': 27, 'user23': 16, 'user24': 29, 'user25': 18}\n",
            "{'id': '1759-0', 'user1': 22, 'user2': 28, 'user3': 40, 'user4': 7, 'user5': 19, 'user6': 45, 'user7': 46, 'user8': 24, 'user9': 17, 'user10': 32, 'user11': 46, 'user12': 40, 'user13': 45, 'user14': 45, 'user15': 46, 'user16': 39, 'user17': 29, 'user18': 40, 'user19': 12, 'user20': 36, 'user21': 36, 'user22': 45, 'user23': 25, 'user24': 21, 'user25': 26}\n",
            "{'id': '20629-2', 'user1': 62, 'user2': 62, 'user3': 62, 'user4': 62, 'user5': 62, 'user6': 62, 'user7': 62, 'user8': 62, 'user9': 62, 'user10': 62, 'user11': 62, 'user12': 62, 'user13': 62, 'user14': 62, 'user15': 62, 'user16': 62, 'user17': 62, 'user18': 62, 'user19': 62, 'user20': 62, 'user21': 62, 'user22': 62, 'user23': 62, 'user24': 62, 'user25': 62}\n",
            "{'id': '1968-7', 'user1': 45, 'user2': 12, 'user3': 9, 'user4': 45, 'user5': 37, 'user6': 46, 'user7': 14, 'user8': 44, 'user9': 38, 'user10': 15, 'user11': 36, 'user12': 16, 'user13': 34, 'user14': 33, 'user15': 21, 'user16': 19, 'user17': 7, 'user18': 8, 'user19': 30, 'user20': 10, 'user21': 28, 'user22': 7, 'user23': 37, 'user24': 34, 'user25': 9}\n",
            "{'id': '35192-4', 'user1': 46, 'user2': 45, 'user3': 32, 'user4': 14, 'user5': 20, 'user6': 21, 'user7': 31, 'user8': 15, 'user9': 29, 'user10': 16, 'user11': 29, 'user12': 26, 'user13': 14, 'user14': 19, 'user15': 28, 'user16': 27, 'user17': 23, 'user18': 47, 'user19': 31, 'user20': 38, 'user21': 29, 'user22': 21, 'user23': 17, 'user24': 9, 'user25': 46}\n",
            "{'id': '883-9', 'user1': 10, 'user2': 38, 'user3': 23, 'user4': 29, 'user5': 12, 'user6': 47, 'user7': 15, 'user8': 33, 'user9': 18, 'user10': 22, 'user11': 21, 'user12': 17, 'user13': 46, 'user14': 40, 'user15': 29, 'user16': 20, 'user17': 13, 'user18': 41, 'user19': 44, 'user20': 28, 'user21': 18, 'user22': 46, 'user23': 10, 'user24': 35, 'user25': 35}\n",
            "{'id': '1003-3', 'user1': 11, 'user2': 13, 'user3': 44, 'user4': 30, 'user5': 47, 'user6': 28, 'user7': 16, 'user8': 34, 'user9': 45, 'user10': 33, 'user11': 15, 'user12': 41, 'user13': 35, 'user14': 46, 'user15': 22, 'user16': 46, 'user17': 40, 'user18': 17, 'user19': 13, 'user20': 11, 'user21': 19, 'user22': 8, 'user23': 11, 'user24': 45, 'user25': 27}\n",
            "{'id': '54439-5', 'user1': 63, 'user2': 63, 'user3': 63, 'user4': 63, 'user5': 63, 'user6': 63, 'user7': 63, 'user8': 63, 'user9': 63, 'user10': 63, 'user11': 63, 'user12': 63, 'user13': 63, 'user14': 63, 'user15': 63, 'user16': 63, 'user17': 63, 'user18': 63, 'user19': 63, 'user20': 63, 'user21': 63, 'user22': 63, 'user23': 63, 'user24': 63, 'user25': 63}\n",
            "{'id': '3082-S', 'user1': 47, 'user2': 39, 'user3': 12, 'user4': 46, 'user5': 7, 'user6': 29, 'user7': 32, 'user8': 7, 'user9': 46, 'user10': 8, 'user11': 37, 'user12': 47, 'user13': 36, 'user14': 29, 'user15': 6, 'user16': 8, 'user17': 14, 'user18': 18, 'user19': 22, 'user20': 39, 'user21': 12, 'user22': 28, 'user23': 26, 'user24': 10, 'user25': 40}\n",
            "{'id': '30522-7', 'user1': 30, 'user2': 23, 'user3': 45, 'user4': 15, 'user5': 31, 'user6': 30, 'user7': 26, 'user8': 45, 'user9': 47, 'user10': 23, 'user11': 38, 'user12': 18, 'user13': 37, 'user14': 30, 'user15': 23, 'user16': 28, 'user17': 15, 'user18': 19, 'user19': 32, 'user20': 47, 'user21': 20, 'user22': 9, 'user23': 38, 'user24': 11, 'user25': 10}\n",
            "{'id': '10331-7', 'user1': 17, 'user2': 46, 'user3': 46, 'user4': 19, 'user5': 21, 'user6': 37, 'user7': 33, 'user8': 35, 'user9': 25, 'user10': 24, 'user11': 39, 'user12': 32, 'user13': 26, 'user14': 34, 'user15': 7, 'user16': 21, 'user17': 16, 'user18': 20, 'user19': 33, 'user20': 12, 'user21': 37, 'user22': 47, 'user23': 47, 'user24': 41, 'user25': 19}\n",
            "{'id': '26474-7', 'user1': 31, 'user2': 24, 'user3': 10, 'user4': 47, 'user5': 38, 'user6': 14, 'user7': 7, 'user8': 46, 'user9': 39, 'user10': 9, 'user11': 7, 'user12': 19, 'user13': 15, 'user14': 35, 'user15': 13, 'user16': 29, 'user17': 30, 'user18': 42, 'user19': 34, 'user20': 29, 'user21': 38, 'user22': 10, 'user23': 39, 'user24': 12, 'user25': 11}\n",
            "{'id': '8310-5', 'user1': 64, 'user2': 64, 'user3': 64, 'user4': 64, 'user5': 64, 'user6': 64, 'user7': 64, 'user8': 64, 'user9': 64, 'user10': 64, 'user11': 64, 'user12': 64, 'user13': 64, 'user14': 64, 'user15': 64, 'user16': 64, 'user17': 64, 'user18': 64, 'user19': 64, 'user20': 64, 'user21': 64, 'user22': 64, 'user23': 64, 'user24': 64, 'user25': 64}\n",
            "{'id': '31100-1', 'user1': 23, 'user2': 47, 'user3': 33, 'user4': 16, 'user5': 39, 'user6': 7, 'user7': 27, 'user8': 36, 'user9': 19, 'user10': 47, 'user11': 47, 'user12': 42, 'user13': 9, 'user14': 11, 'user15': 24, 'user16': 9, 'user17': 17, 'user18': 21, 'user19': 14, 'user20': 40, 'user21': 42, 'user22': 11, 'user23': 18, 'user24': 46, 'user25': 12}\n",
            "{'id': '882-1', 'user1': 32, 'user2': 29, 'user3': 24, 'user4': 36, 'user5': 22, 'user6': 8, 'user7': 43, 'user8': 47, 'user9': 11, 'user10': 25, 'user11': 22, 'user12': 33, 'user13': 27, 'user14': 36, 'user15': 47, 'user16': 47, 'user17': 31, 'user18': 35, 'user19': 35, 'user20': 30, 'user21': 39, 'user22': 29, 'user23': 27, 'user24': 13, 'user25': 13}\n",
            "{'id': '26484-6', 'user1': 24, 'user2': 40, 'user3': 47, 'user4': 31, 'user5': 23, 'user6': 9, 'user7': 47, 'user8': 25, 'user9': 20, 'user10': 26, 'user11': 23, 'user12': 27, 'user13': 47, 'user14': 41, 'user15': 14, 'user16': 22, 'user17': 32, 'user18': 9, 'user19': 47, 'user20': 31, 'user21': 13, 'user22': 30, 'user23': 40, 'user24': 47, 'user25': 47}\n",
            "{'id': '1250-0', 'user1': 65, 'user2': 65, 'user3': 65, 'user4': 65, 'user5': 65, 'user6': 65, 'user7': 65, 'user8': 65, 'user9': 65, 'user10': 65, 'user11': 65, 'user12': 65, 'user13': 65, 'user14': 65, 'user15': 65, 'user16': 65, 'user17': 65, 'user18': 65, 'user19': 65, 'user20': 65, 'user21': 65, 'user22': 65, 'user23': 65, 'user24': 65, 'user25': 65}\n",
            "{'id': '18864-9', 'user1': 66, 'user2': 66, 'user3': 66, 'user4': 66, 'user5': 66, 'user6': 66, 'user7': 66, 'user8': 66, 'user9': 66, 'user10': 66, 'user11': 66, 'user12': 66, 'user13': 66, 'user14': 66, 'user15': 66, 'user16': 66, 'user17': 66, 'user18': 66, 'user19': 66, 'user20': 66, 'user21': 66, 'user22': 66, 'user23': 66, 'user24': 66, 'user25': 66}\n",
            "{'id': '1742-6', 'user1': 33, 'user2': 14, 'user3': 25, 'user4': 17, 'user5': 40, 'user6': 22, 'user7': 17, 'user8': 26, 'user9': 30, 'user10': 27, 'user11': 30, 'user12': 5, 'user13': 38, 'user14': 47, 'user15': 38, 'user16': 40, 'user17': 41, 'user18': 29, 'user19': 36, 'user20': 37, 'user21': 30, 'user22': 18, 'user23': 41, 'user24': 22, 'user25': 20}\n",
            "{'id': '18865-6', 'user1': 67, 'user2': 67, 'user3': 67, 'user4': 67, 'user5': 67, 'user6': 67, 'user7': 67, 'user8': 67, 'user9': 67, 'user10': 67, 'user11': 67, 'user12': 67, 'user13': 67, 'user14': 67, 'user15': 67, 'user16': 67, 'user17': 67, 'user18': 67, 'user19': 67, 'user20': 67, 'user21': 67, 'user22': 67, 'user23': 67, 'user24': 67, 'user25': 67}\n",
            "{'id': '33870-7', 'user1': 24, 'user2': 24, 'user3': 24, 'user4': 24, 'user5': 24, 'user6': 24, 'user7': 24, 'user8': 24, 'user9': 24, 'user10': 24, 'user11': 24, 'user12': 24, 'user13': 24, 'user14': 24, 'user15': 24, 'user16': 24, 'user17': 24, 'user18': 24, 'user19': 24, 'user20': 24, 'user21': 24, 'user22': 24, 'user23': 24, 'user24': 24, 'user25': 24}\n",
            "{'id': '29265-6', 'user1': 25, 'user2': 25, 'user3': 25, 'user4': 25, 'user5': 25, 'user6': 25, 'user7': 25, 'user8': 25, 'user9': 25, 'user10': 25, 'user11': 25, 'user12': 25, 'user13': 25, 'user14': 25, 'user15': 25, 'user16': 25, 'user17': 25, 'user18': 25, 'user19': 25, 'user20': 25, 'user21': 25, 'user22': 25, 'user23': 25, 'user24': 25, 'user25': 25}\n",
            "{'id': '14423-8', 'user1': 26, 'user2': 26, 'user3': 26, 'user4': 26, 'user5': 26, 'user6': 26, 'user7': 26, 'user8': 26, 'user9': 26, 'user10': 26, 'user11': 26, 'user12': 26, 'user13': 26, 'user14': 26, 'user15': 26, 'user16': 26, 'user17': 26, 'user18': 26, 'user19': 26, 'user20': 26, 'user21': 26, 'user22': 26, 'user23': 26, 'user24': 26, 'user25': 26}\n",
            "{'id': '23658-8', 'user1': 27, 'user2': 27, 'user3': 27, 'user4': 27, 'user5': 27, 'user6': 27, 'user7': 27, 'user8': 27, 'user9': 27, 'user10': 27, 'user11': 27, 'user12': 27, 'user13': 27, 'user14': 27, 'user15': 27, 'user16': 27, 'user17': 27, 'user18': 27, 'user19': 27, 'user20': 27, 'user21': 27, 'user22': 27, 'user23': 27, 'user24': 27, 'user25': 27}\n",
            "{'id': '19000-9', 'user1': 28, 'user2': 28, 'user3': 28, 'user4': 28, 'user5': 28, 'user6': 28, 'user7': 28, 'user8': 28, 'user9': 28, 'user10': 28, 'user11': 28, 'user12': 28, 'user13': 28, 'user14': 28, 'user15': 28, 'user16': 28, 'user17': 28, 'user18': 28, 'user19': 28, 'user20': 28, 'user21': 28, 'user22': 28, 'user23': 28, 'user24': 28, 'user25': 28}\n",
            "{'id': '14749-6', 'user1': 18, 'user2': 1, 'user3': 6, 'user4': 18, 'user5': 2, 'user6': 15, 'user7': 17, 'user8': 17, 'user9': 2, 'user10': 23, 'user11': 4, 'user12': 20, 'user13': 12, 'user14': 1, 'user15': 12, 'user16': 7, 'user17': 11, 'user18': 5, 'user19': 9, 'user20': 12, 'user21': 19, 'user22': 16, 'user23': 15, 'user24': 3, 'user25': 15}\n",
            "{'id': '1920-8', 'user1': 29, 'user2': 29, 'user3': 29, 'user4': 29, 'user5': 29, 'user6': 29, 'user7': 29, 'user8': 29, 'user9': 29, 'user10': 29, 'user11': 29, 'user12': 29, 'user13': 29, 'user14': 29, 'user15': 29, 'user16': 29, 'user17': 29, 'user18': 29, 'user19': 29, 'user20': 29, 'user21': 29, 'user22': 29, 'user23': 29, 'user24': 29, 'user25': 29}\n",
            "{'id': '18878-9', 'user1': 30, 'user2': 30, 'user3': 30, 'user4': 30, 'user5': 30, 'user6': 30, 'user7': 30, 'user8': 30, 'user9': 30, 'user10': 30, 'user11': 30, 'user12': 30, 'user13': 30, 'user14': 30, 'user15': 30, 'user16': 30, 'user17': 30, 'user18': 30, 'user19': 30, 'user20': 30, 'user21': 30, 'user22': 30, 'user23': 30, 'user24': 30, 'user25': 30}\n",
            "{'id': '20442-0', 'user1': 31, 'user2': 31, 'user3': 31, 'user4': 31, 'user5': 31, 'user6': 31, 'user7': 31, 'user8': 31, 'user9': 31, 'user10': 31, 'user11': 31, 'user12': 31, 'user13': 31, 'user14': 31, 'user15': 31, 'user16': 31, 'user17': 31, 'user18': 31, 'user19': 31, 'user20': 31, 'user21': 31, 'user22': 31, 'user23': 31, 'user24': 31, 'user25': 31}\n",
            "{'id': '1751-7', 'user1': 32, 'user2': 32, 'user3': 32, 'user4': 32, 'user5': 32, 'user6': 32, 'user7': 32, 'user8': 32, 'user9': 32, 'user10': 32, 'user11': 32, 'user12': 32, 'user13': 32, 'user14': 32, 'user15': 32, 'user16': 32, 'user17': 32, 'user18': 32, 'user19': 32, 'user20': 32, 'user21': 32, 'user22': 32, 'user23': 32, 'user24': 32, 'user25': 32}\n",
            "{'id': '13317-3', 'user1': 33, 'user2': 33, 'user3': 33, 'user4': 33, 'user5': 33, 'user6': 33, 'user7': 33, 'user8': 33, 'user9': 33, 'user10': 33, 'user11': 33, 'user12': 33, 'user13': 33, 'user14': 33, 'user15': 33, 'user16': 33, 'user17': 33, 'user18': 33, 'user19': 33, 'user20': 33, 'user21': 33, 'user22': 33, 'user23': 33, 'user24': 33, 'user25': 33}\n",
            "{'id': '15076-3', 'user1': 11, 'user2': 6, 'user3': 15, 'user4': 2, 'user5': 16, 'user6': 9, 'user7': 18, 'user8': 6, 'user9': 7, 'user10': 8, 'user11': 9, 'user12': 10, 'user13': 15, 'user14': 14, 'user15': 10, 'user16': 15, 'user17': 2, 'user18': 20, 'user19': 14, 'user20': 15, 'user21': 9, 'user22': 17, 'user23': 2, 'user24': 6, 'user25': 7}\n",
            "{'id': '35184-1', 'user1': 7, 'user2': 7, 'user3': 17, 'user4': 3, 'user5': 11, 'user6': 2, 'user7': 2, 'user8': 18, 'user9': 17, 'user10': 13, 'user11': 10, 'user12': 2, 'user13': 1, 'user14': 8, 'user15': 18, 'user16': 8, 'user17': 15, 'user18': 6, 'user19': 22, 'user20': 16, 'user21': 20, 'user22': 11, 'user23': 9, 'user24': 7, 'user25': 9}\n",
            "{'id': '2085-9', 'user1': 34, 'user2': 34, 'user3': 34, 'user4': 34, 'user5': 34, 'user6': 34, 'user7': 34, 'user8': 34, 'user9': 34, 'user10': 34, 'user11': 34, 'user12': 34, 'user13': 34, 'user14': 34, 'user15': 34, 'user16': 34, 'user17': 34, 'user18': 34, 'user19': 34, 'user20': 34, 'user21': 34, 'user22': 34, 'user23': 34, 'user24': 34, 'user25': 34}\n",
            "{'id': '26464-8', 'user1': 12, 'user2': 8, 'user3': 18, 'user4': 9, 'user5': 14, 'user6': 3, 'user7': 3, 'user8': 7, 'user9': 13, 'user10': 2, 'user11': 5, 'user12': 17, 'user13': 2, 'user14': 18, 'user15': 13, 'user16': 2, 'user17': 4, 'user18': 9, 'user19': 10, 'user20': 17, 'user21': 14, 'user22': 13, 'user23': 3, 'user24': 14, 'user25': 16}\n",
            "{'id': '925-8', 'user1': 2, 'user2': 11, 'user3': 2, 'user4': 10, 'user5': 4, 'user6': 19, 'user7': 12, 'user8': 8, 'user9': 10, 'user10': 9, 'user11': 6, 'user12': 11, 'user13': 7, 'user14': 20, 'user15': 7, 'user16': 3, 'user17': 9, 'user18': 10, 'user19': 15, 'user20': 18, 'user21': 21, 'user22': 19, 'user23': 11, 'user24': 15, 'user25': 17}\n",
            "{'id': '1994-3', 'user1': 21, 'user2': 20, 'user3': 12, 'user4': 4, 'user5': 17, 'user6': 20, 'user7': 7, 'user8': 11, 'user9': 11, 'user10': 19, 'user11': 14, 'user12': 12, 'user13': 8, 'user14': 9, 'user15': 23, 'user16': 4, 'user17': 16, 'user18': 21, 'user19': 4, 'user20': 10, 'user21': 10, 'user22': 6, 'user23': 19, 'user24': 11, 'user25': 18}\n",
            "{'id': '1798-8', 'user1': 35, 'user2': 35, 'user3': 35, 'user4': 35, 'user5': 35, 'user6': 35, 'user7': 35, 'user8': 35, 'user9': 35, 'user10': 35, 'user11': 35, 'user12': 35, 'user13': 35, 'user14': 35, 'user15': 35, 'user16': 35, 'user17': 35, 'user18': 35, 'user19': 35, 'user20': 35, 'user21': 35, 'user22': 35, 'user23': 35, 'user24': 35, 'user25': 35}\n",
            "{'id': '1959-6', 'user1': 8, 'user2': 21, 'user3': 7, 'user4': 13, 'user5': 5, 'user6': 12, 'user7': 4, 'user8': 21, 'user9': 19, 'user10': 14, 'user11': 19, 'user12': 13, 'user13': 9, 'user14': 2, 'user15': 2, 'user16': 19, 'user17': 5, 'user18': 13, 'user19': 5, 'user20': 2, 'user21': 6, 'user22': 2, 'user23': 12, 'user24': 4, 'user25': 10}\n",
            "{'id': '1975-2', 'user1': 36, 'user2': 36, 'user3': 36, 'user4': 36, 'user5': 36, 'user6': 36, 'user7': 36, 'user8': 36, 'user9': 36, 'user10': 36, 'user11': 36, 'user12': 36, 'user13': 36, 'user14': 36, 'user15': 36, 'user16': 36, 'user17': 36, 'user18': 36, 'user19': 36, 'user20': 36, 'user21': 36, 'user22': 36, 'user23': 36, 'user24': 36, 'user25': 36}\n",
            "{'id': '18928-2', 'user1': 37, 'user2': 37, 'user3': 37, 'user4': 37, 'user5': 37, 'user6': 37, 'user7': 37, 'user8': 37, 'user9': 37, 'user10': 37, 'user11': 37, 'user12': 37, 'user13': 37, 'user14': 37, 'user15': 37, 'user16': 37, 'user17': 37, 'user18': 37, 'user19': 37, 'user20': 37, 'user21': 37, 'user22': 37, 'user23': 37, 'user24': 37, 'user25': 37}\n",
            "{'id': '14578-9', 'user1': 3, 'user2': 2, 'user3': 16, 'user4': 6, 'user5': 18, 'user6': 16, 'user7': 19, 'user8': 9, 'user9': 3, 'user10': 10, 'user11': 2, 'user12': 3, 'user13': 19, 'user14': 3, 'user15': 19, 'user16': 9, 'user17': 17, 'user18': 22, 'user19': 11, 'user20': 5, 'user21': 11, 'user22': 7, 'user23': 20, 'user24': 12, 'user25': 11}\n",
            "{'id': '934-0', 'user1': 13, 'user2': 3, 'user3': 19, 'user4': 7, 'user5': 12, 'user6': 4, 'user7': 13, 'user8': 12, 'user9': 20, 'user10': 20, 'user11': 20, 'user12': 8, 'user13': 21, 'user14': 4, 'user15': 20, 'user16': 5, 'user17': 6, 'user18': 14, 'user19': 1, 'user20': 20, 'user21': 12, 'user22': 3, 'user23': 13, 'user24': 17, 'user25': 12}\n",
            "{'id': '4671-4', 'user1': 38, 'user2': 38, 'user3': 38, 'user4': 38, 'user5': 38, 'user6': 38, 'user7': 38, 'user8': 38, 'user9': 38, 'user10': 38, 'user11': 38, 'user12': 38, 'user13': 38, 'user14': 38, 'user15': 38, 'user16': 38, 'user17': 38, 'user18': 38, 'user19': 38, 'user20': 38, 'user21': 38, 'user22': 38, 'user23': 38, 'user24': 38, 'user25': 38}\n",
            "{'id': '2069-3', 'user1': 22, 'user2': 15, 'user3': 8, 'user4': 11, 'user5': 6, 'user6': 8, 'user7': 22, 'user8': 13, 'user9': 4, 'user10': 21, 'user11': 21, 'user12': 4, 'user13': 3, 'user14': 5, 'user15': 14, 'user16': 11, 'user17': 10, 'user18': 15, 'user19': 19, 'user20': 13, 'user21': 15, 'user22': 4, 'user23': 14, 'user24': 2, 'user25': 19}\n",
            "{'id': '2111-3', 'user1': 39, 'user2': 39, 'user3': 39, 'user4': 39, 'user5': 39, 'user6': 39, 'user7': 39, 'user8': 39, 'user9': 39, 'user10': 39, 'user11': 39, 'user12': 39, 'user13': 39, 'user14': 39, 'user15': 39, 'user16': 39, 'user17': 39, 'user18': 39, 'user19': 39, 'user20': 39, 'user21': 39, 'user22': 39, 'user23': 39, 'user24': 39, 'user25': 39}\n",
            "{'id': '17861-6', 'user1': 40, 'user2': 40, 'user3': 40, 'user4': 40, 'user5': 40, 'user6': 40, 'user7': 40, 'user8': 40, 'user9': 40, 'user10': 40, 'user11': 40, 'user12': 40, 'user13': 40, 'user14': 40, 'user15': 40, 'user16': 40, 'user17': 40, 'user18': 40, 'user19': 40, 'user20': 40, 'user21': 40, 'user22': 40, 'user23': 40, 'user24': 40, 'user25': 40}\n",
            "{'id': '2075-0', 'user1': 41, 'user2': 41, 'user3': 41, 'user4': 41, 'user5': 41, 'user6': 41, 'user7': 41, 'user8': 41, 'user9': 41, 'user10': 41, 'user11': 41, 'user12': 41, 'user13': 41, 'user14': 41, 'user15': 41, 'user16': 41, 'user17': 41, 'user18': 41, 'user19': 41, 'user20': 41, 'user21': 41, 'user22': 41, 'user23': 41, 'user24': 41, 'user25': 41}\n",
            "{'id': '933-2', 'user1': 14, 'user2': 22, 'user3': 3, 'user4': 20, 'user5': 19, 'user6': 21, 'user7': 20, 'user8': 10, 'user9': 21, 'user10': 11, 'user11': 22, 'user12': 23, 'user13': 10, 'user14': 6, 'user15': 21, 'user16': 16, 'user17': 7, 'user18': 1, 'user19': 2, 'user20': 3, 'user21': 2, 'user22': 14, 'user23': 4, 'user24': 18, 'user25': 2}\n",
            "{'id': '2132-9', 'user1': 42, 'user2': 42, 'user3': 42, 'user4': 42, 'user5': 42, 'user6': 42, 'user7': 42, 'user8': 42, 'user9': 42, 'user10': 42, 'user11': 42, 'user12': 42, 'user13': 42, 'user14': 42, 'user15': 42, 'user16': 42, 'user17': 42, 'user18': 42, 'user19': 42, 'user20': 42, 'user21': 42, 'user22': 42, 'user23': 42, 'user24': 42, 'user25': 42}\n",
            "{'id': '19080-1', 'user1': 43, 'user2': 43, 'user3': 43, 'user4': 43, 'user5': 43, 'user6': 43, 'user7': 43, 'user8': 43, 'user9': 43, 'user10': 43, 'user11': 43, 'user12': 43, 'user13': 43, 'user14': 43, 'user15': 43, 'user16': 43, 'user17': 43, 'user18': 43, 'user19': 43, 'user20': 43, 'user21': 43, 'user22': 43, 'user23': 43, 'user24': 43, 'user25': 43}\n",
            "{'id': '26478-8', 'user1': 19, 'user2': 12, 'user3': 11, 'user4': 14, 'user5': 7, 'user6': 10, 'user7': 8, 'user8': 22, 'user9': 14, 'user10': 6, 'user11': 7, 'user12': 14, 'user13': 16, 'user14': 10, 'user15': 3, 'user16': 13, 'user17': 18, 'user18': 2, 'user19': 6, 'user20': 6, 'user21': 7, 'user22': 18, 'user23': 5, 'user24': 19, 'user25': 13}\n",
            "{'id': '14747-0', 'user1': 4, 'user2': 16, 'user3': 4, 'user4': 15, 'user5': 20, 'user6': 5, 'user7': 9, 'user8': 19, 'user9': 8, 'user10': 3, 'user11': 23, 'user12': 15, 'user13': 4, 'user14': 15, 'user15': 22, 'user16': 20, 'user17': 8, 'user18': 11, 'user19': 12, 'user20': 7, 'user21': 22, 'user22': 8, 'user23': 16, 'user24': 20, 'user25': 14}\n",
            "{'id': '20565-8', 'user1': 23, 'user2': 23, 'user3': 20, 'user4': 8, 'user5': 13, 'user6': 22, 'user7': 23, 'user8': 23, 'user9': 9, 'user10': 15, 'user11': 11, 'user12': 16, 'user13': 17, 'user14': 11, 'user15': 4, 'user16': 14, 'user17': 19, 'user18': 16, 'user19': 7, 'user20': 4, 'user21': 17, 'user22': 20, 'user23': 6, 'user24': 8, 'user25': 20}\n",
            "{'id': '2028-9', 'user1': 44, 'user2': 44, 'user3': 44, 'user4': 44, 'user5': 44, 'user6': 44, 'user7': 44, 'user8': 44, 'user9': 44, 'user10': 44, 'user11': 44, 'user12': 44, 'user13': 44, 'user14': 44, 'user15': 44, 'user16': 44, 'user17': 44, 'user18': 44, 'user19': 44, 'user20': 44, 'user21': 44, 'user22': 44, 'user23': 44, 'user24': 44, 'user25': 44}\n",
            "{'id': '18955-S', 'user1': 45, 'user2': 45, 'user3': 45, 'user4': 45, 'user5': 45, 'user6': 45, 'user7': 45, 'user8': 45, 'user9': 45, 'user10': 45, 'user11': 45, 'user12': 45, 'user13': 45, 'user14': 45, 'user15': 45, 'user16': 45, 'user17': 45, 'user18': 45, 'user19': 45, 'user20': 45, 'user21': 45, 'user22': 45, 'user23': 45, 'user24': 45, 'user25': 45}\n",
            "{'id': '2093-3', 'user1': 46, 'user2': 46, 'user3': 46, 'user4': 46, 'user5': 46, 'user6': 46, 'user7': 46, 'user8': 46, 'user9': 46, 'user10': 46, 'user11': 46, 'user12': 46, 'user13': 46, 'user14': 46, 'user15': 46, 'user16': 46, 'user17': 46, 'user18': 46, 'user19': 46, 'user20': 46, 'user21': 46, 'user22': 46, 'user23': 46, 'user24': 46, 'user25': 46}\n",
            "{'id': '18998-5', 'user1': 47, 'user2': 47, 'user3': 47, 'user4': 47, 'user5': 47, 'user6': 47, 'user7': 47, 'user8': 47, 'user9': 47, 'user10': 47, 'user11': 47, 'user12': 47, 'user13': 47, 'user14': 47, 'user15': 47, 'user16': 47, 'user17': 47, 'user18': 47, 'user19': 47, 'user20': 47, 'user21': 47, 'user22': 47, 'user23': 47, 'user24': 47, 'user25': 47}\n",
            "{'id': '890-4', 'user1': 9, 'user2': 9, 'user3': 21, 'user4': 16, 'user5': 21, 'user6': 23, 'user7': 21, 'user8': 5, 'user9': 5, 'user10': 12, 'user11': 17, 'user12': 21, 'user13': 5, 'user14': 12, 'user15': 15, 'user16': 21, 'user17': 22, 'user18': 3, 'user19': 16, 'user20': 8, 'user21': 8, 'user22': 21, 'user23': 21, 'user24': 13, 'user25': 4}\n",
            "{'id': '14764-5', 'user1': 5, 'user2': 10, 'user3': 22, 'user4': 17, 'user5': 22, 'user6': 17, 'user7': 10, 'user8': 14, 'user9': 12, 'user10': 16, 'user11': 3, 'user12': 5, 'user13': 22, 'user14': 21, 'user15': 5, 'user16': 22, 'user17': 12, 'user18': 19, 'user19': 23, 'user20': 9, 'user21': 3, 'user22': 22, 'user23': 17, 'user24': 9, 'user25': 5}\n",
            "{'id': '2143-6', 'user1': 48, 'user2': 48, 'user3': 48, 'user4': 48, 'user5': 48, 'user6': 48, 'user7': 48, 'user8': 48, 'user9': 48, 'user10': 48, 'user11': 48, 'user12': 48, 'user13': 48, 'user14': 48, 'user15': 48, 'user16': 48, 'user17': 48, 'user18': 48, 'user19': 48, 'user20': 48, 'user21': 48, 'user22': 48, 'user23': 48, 'user24': 48, 'user25': 48}\n",
            "{'id': '2039-6', 'user1': 49, 'user2': 49, 'user3': 49, 'user4': 49, 'user5': 49, 'user6': 49, 'user7': 49, 'user8': 49, 'user9': 49, 'user10': 49, 'user11': 49, 'user12': 49, 'user13': 49, 'user14': 49, 'user15': 49, 'user16': 49, 'user17': 49, 'user18': 49, 'user19': 49, 'user20': 49, 'user21': 49, 'user22': 49, 'user23': 49, 'user24': 49, 'user25': 49}\n",
            "{'id': '1971-1', 'user1': 50, 'user2': 50, 'user3': 50, 'user4': 50, 'user5': 50, 'user6': 50, 'user7': 50, 'user8': 50, 'user9': 50, 'user10': 50, 'user11': 50, 'user12': 50, 'user13': 50, 'user14': 50, 'user15': 50, 'user16': 50, 'user17': 50, 'user18': 50, 'user19': 50, 'user20': 50, 'user21': 50, 'user22': 50, 'user23': 50, 'user24': 50, 'user25': 50}\n",
            "{'id': '18906-8', 'user1': 51, 'user2': 51, 'user3': 51, 'user4': 51, 'user5': 51, 'user6': 51, 'user7': 51, 'user8': 51, 'user9': 51, 'user10': 51, 'user11': 51, 'user12': 51, 'user13': 51, 'user14': 51, 'user15': 51, 'user16': 51, 'user17': 51, 'user18': 51, 'user19': 51, 'user20': 51, 'user21': 51, 'user22': 51, 'user23': 51, 'user24': 51, 'user25': 51}\n",
            "{'id': '6768-6', 'user1': 52, 'user2': 52, 'user3': 52, 'user4': 52, 'user5': 52, 'user6': 52, 'user7': 52, 'user8': 52, 'user9': 52, 'user10': 52, 'user11': 52, 'user12': 52, 'user13': 52, 'user14': 52, 'user15': 52, 'user16': 52, 'user17': 52, 'user18': 52, 'user19': 52, 'user20': 52, 'user21': 52, 'user22': 52, 'user23': 52, 'user24': 52, 'user25': 52}\n",
            "{'id': '1988-5', 'user1': 53, 'user2': 53, 'user3': 53, 'user4': 53, 'user5': 53, 'user6': 53, 'user7': 53, 'user8': 53, 'user9': 53, 'user10': 53, 'user11': 53, 'user12': 53, 'user13': 53, 'user14': 53, 'user15': 53, 'user16': 53, 'user17': 53, 'user18': 53, 'user19': 53, 'user20': 53, 'user21': 53, 'user22': 53, 'user23': 53, 'user24': 53, 'user25': 53}\n",
            "{'id': '74774-1', 'user1': 1, 'user2': 4, 'user3': 1, 'user4': 1, 'user5': 1, 'user6': 1, 'user7': 1, 'user8': 1, 'user9': 1, 'user10': 1, 'user11': 1, 'user12': 1, 'user13': 6, 'user14': 16, 'user15': 1, 'user16': 1, 'user17': 1, 'user18': 12, 'user19': 8, 'user20': 1, 'user21': 1, 'user22': 1, 'user23': 1, 'user24': 1, 'user25': 1}\n",
            "{'id': '1995-0', 'user1': 54, 'user2': 54, 'user3': 54, 'user4': 54, 'user5': 54, 'user6': 54, 'user7': 54, 'user8': 54, 'user9': 54, 'user10': 54, 'user11': 54, 'user12': 54, 'user13': 54, 'user14': 54, 'user15': 54, 'user16': 54, 'user17': 54, 'user18': 54, 'user19': 54, 'user20': 54, 'user21': 54, 'user22': 54, 'user23': 54, 'user24': 54, 'user25': 54}\n",
            "{'id': '1759-0', 'user1': 55, 'user2': 55, 'user3': 55, 'user4': 55, 'user5': 55, 'user6': 55, 'user7': 55, 'user8': 55, 'user9': 55, 'user10': 55, 'user11': 55, 'user12': 55, 'user13': 55, 'user14': 55, 'user15': 55, 'user16': 55, 'user17': 55, 'user18': 55, 'user19': 55, 'user20': 55, 'user21': 55, 'user22': 55, 'user23': 55, 'user24': 55, 'user25': 55}\n",
            "{'id': '20629-2', 'user1': 56, 'user2': 56, 'user3': 56, 'user4': 56, 'user5': 56, 'user6': 56, 'user7': 56, 'user8': 56, 'user9': 56, 'user10': 56, 'user11': 56, 'user12': 56, 'user13': 56, 'user14': 56, 'user15': 56, 'user16': 56, 'user17': 56, 'user18': 56, 'user19': 56, 'user20': 56, 'user21': 56, 'user22': 56, 'user23': 56, 'user24': 56, 'user25': 56}\n",
            "{'id': '1968-7', 'user1': 57, 'user2': 57, 'user3': 57, 'user4': 57, 'user5': 57, 'user6': 57, 'user7': 57, 'user8': 57, 'user9': 57, 'user10': 57, 'user11': 57, 'user12': 57, 'user13': 57, 'user14': 57, 'user15': 57, 'user16': 57, 'user17': 57, 'user18': 57, 'user19': 57, 'user20': 57, 'user21': 57, 'user22': 57, 'user23': 57, 'user24': 57, 'user25': 57}\n",
            "{'id': '35192-4', 'user1': 58, 'user2': 58, 'user3': 58, 'user4': 58, 'user5': 58, 'user6': 58, 'user7': 58, 'user8': 58, 'user9': 58, 'user10': 58, 'user11': 58, 'user12': 58, 'user13': 58, 'user14': 58, 'user15': 58, 'user16': 58, 'user17': 58, 'user18': 58, 'user19': 58, 'user20': 58, 'user21': 58, 'user22': 58, 'user23': 58, 'user24': 58, 'user25': 58}\n",
            "{'id': '883-9', 'user1': 6, 'user2': 13, 'user3': 23, 'user4': 21, 'user5': 3, 'user6': 18, 'user7': 14, 'user8': 2, 'user9': 18, 'user10': 17, 'user11': 15, 'user12': 6, 'user13': 23, 'user14': 17, 'user15': 8, 'user16': 12, 'user17': 20, 'user18': 17, 'user19': 13, 'user20': 21, 'user21': 18, 'user22': 15, 'user23': 7, 'user24': 16, 'user25': 3}\n",
            "{'id': '1003-3', 'user1': 59, 'user2': 59, 'user3': 59, 'user4': 59, 'user5': 59, 'user6': 59, 'user7': 59, 'user8': 59, 'user9': 59, 'user10': 59, 'user11': 59, 'user12': 59, 'user13': 59, 'user14': 59, 'user15': 59, 'user16': 59, 'user17': 59, 'user18': 59, 'user19': 59, 'user20': 59, 'user21': 59, 'user22': 59, 'user23': 59, 'user24': 59, 'user25': 59}\n",
            "{'id': '54439-5', 'user1': 60, 'user2': 60, 'user3': 60, 'user4': 60, 'user5': 60, 'user6': 60, 'user7': 60, 'user8': 60, 'user9': 60, 'user10': 60, 'user11': 60, 'user12': 60, 'user13': 60, 'user14': 60, 'user15': 60, 'user16': 60, 'user17': 60, 'user18': 60, 'user19': 60, 'user20': 60, 'user21': 60, 'user22': 60, 'user23': 60, 'user24': 60, 'user25': 60}\n",
            "{'id': '3082-S', 'user1': 61, 'user2': 61, 'user3': 61, 'user4': 61, 'user5': 61, 'user6': 61, 'user7': 61, 'user8': 61, 'user9': 61, 'user10': 61, 'user11': 61, 'user12': 61, 'user13': 61, 'user14': 61, 'user15': 61, 'user16': 61, 'user17': 61, 'user18': 61, 'user19': 61, 'user20': 61, 'user21': 61, 'user22': 61, 'user23': 61, 'user24': 61, 'user25': 61}\n",
            "{'id': '30522-7', 'user1': 62, 'user2': 62, 'user3': 62, 'user4': 62, 'user5': 62, 'user6': 62, 'user7': 62, 'user8': 62, 'user9': 62, 'user10': 62, 'user11': 62, 'user12': 62, 'user13': 62, 'user14': 62, 'user15': 62, 'user16': 62, 'user17': 62, 'user18': 62, 'user19': 62, 'user20': 62, 'user21': 62, 'user22': 62, 'user23': 62, 'user24': 62, 'user25': 62}\n",
            "{'id': '10331-7', 'user1': 15, 'user2': 14, 'user3': 13, 'user4': 19, 'user5': 8, 'user6': 6, 'user7': 5, 'user8': 3, 'user9': 6, 'user10': 18, 'user11': 12, 'user12': 9, 'user13': 11, 'user14': 22, 'user15': 16, 'user16': 10, 'user17': 23, 'user18': 23, 'user19': 17, 'user20': 22, 'user21': 4, 'user22': 9, 'user23': 22, 'user24': 5, 'user25': 21}\n",
            "{'id': '26474-7', 'user1': 10, 'user2': 18, 'user3': 9, 'user4': 5, 'user5': 15, 'user6': 11, 'user7': 15, 'user8': 15, 'user9': 22, 'user10': 22, 'user11': 8, 'user12': 18, 'user13': 20, 'user14': 13, 'user15': 11, 'user16': 6, 'user17': 21, 'user18': 7, 'user19': 3, 'user20': 14, 'user21': 16, 'user22': 12, 'user23': 8, 'user24': 21, 'user25': 6}\n",
            "{'id': '8310-5', 'user1': 63, 'user2': 63, 'user3': 63, 'user4': 63, 'user5': 63, 'user6': 63, 'user7': 63, 'user8': 63, 'user9': 63, 'user10': 63, 'user11': 63, 'user12': 63, 'user13': 63, 'user14': 63, 'user15': 63, 'user16': 63, 'user17': 63, 'user18': 63, 'user19': 63, 'user20': 63, 'user21': 63, 'user22': 63, 'user23': 63, 'user24': 63, 'user25': 63}\n",
            "{'id': '31100-1', 'user1': 16, 'user2': 17, 'user3': 5, 'user4': 12, 'user5': 23, 'user6': 7, 'user7': 6, 'user8': 16, 'user9': 15, 'user10': 7, 'user11': 16, 'user12': 7, 'user13': 13, 'user14': 19, 'user15': 9, 'user16': 23, 'user17': 13, 'user18': 8, 'user19': 20, 'user20': 11, 'user21': 23, 'user22': 5, 'user23': 10, 'user24': 10, 'user25': 22}\n",
            "{'id': '882-1', 'user1': 20, 'user2': 19, 'user3': 14, 'user4': 22, 'user5': 9, 'user6': 13, 'user7': 16, 'user8': 20, 'user9': 16, 'user10': 4, 'user11': 13, 'user12': 22, 'user13': 18, 'user14': 23, 'user15': 6, 'user16': 17, 'user17': 14, 'user18': 18, 'user19': 18, 'user20': 23, 'user21': 5, 'user22': 10, 'user23': 18, 'user24': 22, 'user25': 23}\n",
            "{'id': '26484-6', 'user1': 17, 'user2': 5, 'user3': 10, 'user4': 23, 'user5': 10, 'user6': 14, 'user7': 11, 'user8': 4, 'user9': 23, 'user10': 5, 'user11': 18, 'user12': 19, 'user13': 14, 'user14': 7, 'user15': 17, 'user16': 18, 'user17': 3, 'user18': 4, 'user19': 21, 'user20': 19, 'user21': 13, 'user22': 23, 'user23': 23, 'user24': 23, 'user25': 8}\n",
            "{'id': '1250-0', 'user1': 64, 'user2': 64, 'user3': 64, 'user4': 64, 'user5': 64, 'user6': 64, 'user7': 64, 'user8': 64, 'user9': 64, 'user10': 64, 'user11': 64, 'user12': 64, 'user13': 64, 'user14': 64, 'user15': 64, 'user16': 64, 'user17': 64, 'user18': 64, 'user19': 64, 'user20': 64, 'user21': 64, 'user22': 64, 'user23': 64, 'user24': 64, 'user25': 64}\n",
            "{'id': '18864-9', 'user1': 65, 'user2': 65, 'user3': 65, 'user4': 65, 'user5': 65, 'user6': 65, 'user7': 65, 'user8': 65, 'user9': 65, 'user10': 65, 'user11': 65, 'user12': 65, 'user13': 65, 'user14': 65, 'user15': 65, 'user16': 65, 'user17': 65, 'user18': 65, 'user19': 65, 'user20': 65, 'user21': 65, 'user22': 65, 'user23': 65, 'user24': 65, 'user25': 65}\n",
            "{'id': '1742-6', 'user1': 66, 'user2': 66, 'user3': 66, 'user4': 66, 'user5': 66, 'user6': 66, 'user7': 66, 'user8': 66, 'user9': 66, 'user10': 66, 'user11': 66, 'user12': 66, 'user13': 66, 'user14': 66, 'user15': 66, 'user16': 66, 'user17': 66, 'user18': 66, 'user19': 66, 'user20': 66, 'user21': 66, 'user22': 66, 'user23': 66, 'user24': 66, 'user25': 66}\n",
            "{'id': '18865-6', 'user1': 67, 'user2': 67, 'user3': 67, 'user4': 67, 'user5': 67, 'user6': 67, 'user7': 67, 'user8': 67, 'user9': 67, 'user10': 67, 'user11': 67, 'user12': 67, 'user13': 67, 'user14': 67, 'user15': 67, 'user16': 67, 'user17': 67, 'user18': 67, 'user19': 67, 'user20': 67, 'user21': 67, 'user22': 67, 'user23': 67, 'user24': 67, 'user25': 67}\n",
            "{'id': '33870-7', 'user1': 34, 'user2': 34, 'user3': 34, 'user4': 34, 'user5': 34, 'user6': 34, 'user7': 34, 'user8': 34, 'user9': 34, 'user10': 34, 'user11': 34, 'user12': 34, 'user13': 34, 'user14': 34, 'user15': 34, 'user16': 34, 'user17': 34, 'user18': 34, 'user19': 34, 'user20': 34, 'user21': 34, 'user22': 34, 'user23': 34, 'user24': 34, 'user25': 34}\n",
            "{'id': '29265-6', 'user1': 7, 'user2': 4, 'user3': 18, 'user4': 27, 'user5': 32, 'user6': 7, 'user7': 5, 'user8': 23, 'user9': 26, 'user10': 4, 'user11': 19, 'user12': 3, 'user13': 22, 'user14': 23, 'user15': 13, 'user16': 8, 'user17': 27, 'user18': 30, 'user19': 11, 'user20': 25, 'user21': 8, 'user22': 5, 'user23': 10, 'user24': 13, 'user25': 18}\n",
            "{'id': '14423-8', 'user1': 22, 'user2': 22, 'user3': 27, 'user4': 16, 'user5': 17, 'user6': 8, 'user7': 31, 'user8': 14, 'user9': 20, 'user10': 22, 'user11': 26, 'user12': 17, 'user13': 23, 'user14': 29, 'user15': 14, 'user16': 5, 'user17': 6, 'user18': 9, 'user19': 4, 'user20': 5, 'user21': 9, 'user22': 12, 'user23': 11, 'user24': 18, 'user25': 19}\n",
            "{'id': '23658-8', 'user1': 35, 'user2': 35, 'user3': 35, 'user4': 35, 'user5': 35, 'user6': 35, 'user7': 35, 'user8': 35, 'user9': 35, 'user10': 35, 'user11': 35, 'user12': 35, 'user13': 35, 'user14': 35, 'user15': 35, 'user16': 35, 'user17': 35, 'user18': 35, 'user19': 35, 'user20': 35, 'user21': 35, 'user22': 35, 'user23': 35, 'user24': 35, 'user25': 35}\n",
            "{'id': '19000-9', 'user1': 36, 'user2': 36, 'user3': 36, 'user4': 36, 'user5': 36, 'user6': 36, 'user7': 36, 'user8': 36, 'user9': 36, 'user10': 36, 'user11': 36, 'user12': 36, 'user13': 36, 'user14': 36, 'user15': 36, 'user16': 36, 'user17': 36, 'user18': 36, 'user19': 36, 'user20': 36, 'user21': 36, 'user22': 36, 'user23': 36, 'user24': 36, 'user25': 36}\n",
            "{'id': '14749-6', 'user1': 23, 'user2': 28, 'user3': 24, 'user4': 5, 'user5': 12, 'user6': 9, 'user7': 6, 'user8': 5, 'user9': 12, 'user10': 15, 'user11': 5, 'user12': 20, 'user13': 24, 'user14': 4, 'user15': 22, 'user16': 24, 'user17': 17, 'user18': 25, 'user19': 29, 'user20': 17, 'user21': 19, 'user22': 6, 'user23': 26, 'user24': 19, 'user25': 20}\n",
            "{'id': '1920-8', 'user1': 24, 'user2': 8, 'user3': 12, 'user4': 28, 'user5': 25, 'user6': 10, 'user7': 26, 'user8': 27, 'user9': 13, 'user10': 23, 'user11': 10, 'user12': 9, 'user13': 13, 'user14': 18, 'user15': 23, 'user16': 16, 'user17': 4, 'user18': 10, 'user19': 16, 'user20': 21, 'user21': 31, 'user22': 7, 'user23': 5, 'user24': 25, 'user25': 23}\n",
            "{'id': '18878-9', 'user1': 37, 'user2': 37, 'user3': 37, 'user4': 37, 'user5': 37, 'user6': 37, 'user7': 37, 'user8': 37, 'user9': 37, 'user10': 37, 'user11': 37, 'user12': 37, 'user13': 37, 'user14': 37, 'user15': 37, 'user16': 37, 'user17': 37, 'user18': 37, 'user19': 37, 'user20': 37, 'user21': 37, 'user22': 37, 'user23': 37, 'user24': 37, 'user25': 37}\n",
            "{'id': '20442-0', 'user1': 38, 'user2': 38, 'user3': 38, 'user4': 38, 'user5': 38, 'user6': 38, 'user7': 38, 'user8': 38, 'user9': 38, 'user10': 38, 'user11': 38, 'user12': 38, 'user13': 38, 'user14': 38, 'user15': 38, 'user16': 38, 'user17': 38, 'user18': 38, 'user19': 38, 'user20': 38, 'user21': 38, 'user22': 38, 'user23': 38, 'user24': 38, 'user25': 38}\n",
            "{'id': '1751-7', 'user1': 29, 'user2': 19, 'user3': 19, 'user4': 29, 'user5': 8, 'user6': 18, 'user7': 27, 'user8': 15, 'user9': 17, 'user10': 16, 'user11': 11, 'user12': 10, 'user13': 28, 'user14': 5, 'user15': 20, 'user16': 9, 'user17': 30, 'user18': 31, 'user19': 17, 'user20': 27, 'user21': 10, 'user22': 13, 'user23': 21, 'user24': 22, 'user25': 24}\n",
            "{'id': '13317-3', 'user1': 39, 'user2': 39, 'user3': 39, 'user4': 39, 'user5': 39, 'user6': 39, 'user7': 39, 'user8': 39, 'user9': 39, 'user10': 39, 'user11': 39, 'user12': 39, 'user13': 39, 'user14': 39, 'user15': 39, 'user16': 39, 'user17': 39, 'user18': 39, 'user19': 39, 'user20': 39, 'user21': 39, 'user22': 39, 'user23': 39, 'user24': 39, 'user25': 39}\n",
            "{'id': '15076-3', 'user1': 40, 'user2': 40, 'user3': 40, 'user4': 40, 'user5': 40, 'user6': 40, 'user7': 40, 'user8': 40, 'user9': 40, 'user10': 40, 'user11': 40, 'user12': 40, 'user13': 40, 'user14': 40, 'user15': 40, 'user16': 40, 'user17': 40, 'user18': 40, 'user19': 40, 'user20': 40, 'user21': 40, 'user22': 40, 'user23': 40, 'user24': 40, 'user25': 40}\n",
            "{'id': '35184-1', 'user1': 25, 'user2': 9, 'user3': 9, 'user4': 30, 'user5': 13, 'user6': 26, 'user7': 13, 'user8': 19, 'user9': 5, 'user10': 19, 'user11': 32, 'user12': 21, 'user13': 5, 'user14': 30, 'user15': 4, 'user16': 10, 'user17': 7, 'user18': 19, 'user19': 23, 'user20': 22, 'user21': 11, 'user22': 30, 'user23': 28, 'user24': 26, 'user25': 13}\n",
            "{'id': '2085-9', 'user1': 30, 'user2': 10, 'user3': 5, 'user4': 9, 'user5': 26, 'user6': 4, 'user7': 14, 'user8': 20, 'user9': 31, 'user10': 5, 'user11': 30, 'user12': 14, 'user13': 29, 'user14': 6, 'user15': 21, 'user16': 17, 'user17': 5, 'user18': 2, 'user19': 18, 'user20': 6, 'user21': 3, 'user22': 14, 'user23': 29, 'user24': 27, 'user25': 29}\n",
            "{'id': '26464-8', 'user1': 41, 'user2': 41, 'user3': 41, 'user4': 41, 'user5': 41, 'user6': 41, 'user7': 41, 'user8': 41, 'user9': 41, 'user10': 41, 'user11': 41, 'user12': 41, 'user13': 41, 'user14': 41, 'user15': 41, 'user16': 41, 'user17': 41, 'user18': 41, 'user19': 41, 'user20': 41, 'user21': 41, 'user22': 41, 'user23': 41, 'user24': 41, 'user25': 41}\n",
            "{'id': '925-8', 'user1': 42, 'user2': 42, 'user3': 42, 'user4': 42, 'user5': 42, 'user6': 42, 'user7': 42, 'user8': 42, 'user9': 42, 'user10': 42, 'user11': 42, 'user12': 42, 'user13': 42, 'user14': 42, 'user15': 42, 'user16': 42, 'user17': 42, 'user18': 42, 'user19': 42, 'user20': 42, 'user21': 42, 'user22': 42, 'user23': 42, 'user24': 42, 'user25': 42}\n",
            "{'id': '1994-3', 'user1': 43, 'user2': 43, 'user3': 43, 'user4': 43, 'user5': 43, 'user6': 43, 'user7': 43, 'user8': 43, 'user9': 43, 'user10': 43, 'user11': 43, 'user12': 43, 'user13': 43, 'user14': 43, 'user15': 43, 'user16': 43, 'user17': 43, 'user18': 43, 'user19': 43, 'user20': 43, 'user21': 43, 'user22': 43, 'user23': 43, 'user24': 43, 'user25': 43}\n",
            "{'id': '1798-8', 'user1': 19, 'user2': 16, 'user3': 20, 'user4': 21, 'user5': 27, 'user6': 19, 'user7': 15, 'user8': 24, 'user9': 6, 'user10': 6, 'user11': 20, 'user12': 18, 'user13': 6, 'user14': 31, 'user15': 5, 'user16': 29, 'user17': 8, 'user18': 26, 'user19': 19, 'user20': 18, 'user21': 23, 'user22': 8, 'user23': 18, 'user24': 14, 'user25': 30}\n",
            "{'id': '1959-6', 'user1': 44, 'user2': 44, 'user3': 44, 'user4': 44, 'user5': 44, 'user6': 44, 'user7': 44, 'user8': 44, 'user9': 44, 'user10': 44, 'user11': 44, 'user12': 44, 'user13': 44, 'user14': 44, 'user15': 44, 'user16': 44, 'user17': 44, 'user18': 44, 'user19': 44, 'user20': 44, 'user21': 44, 'user22': 44, 'user23': 44, 'user24': 44, 'user25': 44}\n",
            "{'id': '1975-2', 'user1': 3, 'user2': 2, 'user3': 3, 'user4': 1, 'user5': 3, 'user6': 3, 'user7': 4, 'user8': 1, 'user9': 4, 'user10': 2, 'user11': 2, 'user12': 1, 'user13': 2, 'user14': 1, 'user15': 2, 'user16': 2, 'user17': 9, 'user18': 11, 'user19': 1, 'user20': 2, 'user21': 1, 'user22': 1, 'user23': 2, 'user24': 2, 'user25': 3}\n",
            "{'id': '18928-2', 'user1': 45, 'user2': 45, 'user3': 45, 'user4': 45, 'user5': 45, 'user6': 45, 'user7': 45, 'user8': 45, 'user9': 45, 'user10': 45, 'user11': 45, 'user12': 45, 'user13': 45, 'user14': 45, 'user15': 45, 'user16': 45, 'user17': 45, 'user18': 45, 'user19': 45, 'user20': 45, 'user21': 45, 'user22': 45, 'user23': 45, 'user24': 45, 'user25': 45}\n",
            "{'id': '14578-9', 'user1': 46, 'user2': 46, 'user3': 46, 'user4': 46, 'user5': 46, 'user6': 46, 'user7': 46, 'user8': 46, 'user9': 46, 'user10': 46, 'user11': 46, 'user12': 46, 'user13': 46, 'user14': 46, 'user15': 46, 'user16': 46, 'user17': 46, 'user18': 46, 'user19': 46, 'user20': 46, 'user21': 46, 'user22': 46, 'user23': 46, 'user24': 46, 'user25': 46}\n",
            "{'id': '934-0', 'user1': 47, 'user2': 47, 'user3': 47, 'user4': 47, 'user5': 47, 'user6': 47, 'user7': 47, 'user8': 47, 'user9': 47, 'user10': 47, 'user11': 47, 'user12': 47, 'user13': 47, 'user14': 47, 'user15': 47, 'user16': 47, 'user17': 47, 'user18': 47, 'user19': 47, 'user20': 47, 'user21': 47, 'user22': 47, 'user23': 47, 'user24': 47, 'user25': 47}\n",
            "{'id': '4671-4', 'user1': 31, 'user2': 23, 'user3': 28, 'user4': 22, 'user5': 28, 'user6': 20, 'user7': 7, 'user8': 9, 'user9': 14, 'user10': 24, 'user11': 12, 'user12': 15, 'user13': 14, 'user14': 24, 'user15': 15, 'user16': 30, 'user17': 10, 'user18': 3, 'user19': 5, 'user20': 23, 'user21': 26, 'user22': 15, 'user23': 12, 'user24': 28, 'user25': 14}\n",
            "{'id': '2069-3', 'user1': 48, 'user2': 48, 'user3': 48, 'user4': 48, 'user5': 48, 'user6': 48, 'user7': 48, 'user8': 48, 'user9': 48, 'user10': 48, 'user11': 48, 'user12': 48, 'user13': 48, 'user14': 48, 'user15': 48, 'user16': 48, 'user17': 48, 'user18': 48, 'user19': 48, 'user20': 48, 'user21': 48, 'user22': 48, 'user23': 48, 'user24': 48, 'user25': 48}\n",
            "{'id': '2111-3', 'user1': 5, 'user2': 24, 'user3': 6, 'user4': 10, 'user5': 4, 'user6': 21, 'user7': 32, 'user8': 10, 'user9': 21, 'user10': 17, 'user11': 27, 'user12': 27, 'user13': 15, 'user14': 32, 'user15': 6, 'user16': 25, 'user17': 11, 'user18': 12, 'user19': 30, 'user20': 24, 'user21': 27, 'user22': 16, 'user23': 13, 'user24': 5, 'user25': 31}\n",
            "{'id': '17861-6', 'user1': 32, 'user2': 25, 'user3': 29, 'user4': 14, 'user5': 29, 'user6': 30, 'user7': 23, 'user8': 16, 'user9': 15, 'user10': 29, 'user11': 21, 'user12': 22, 'user13': 30, 'user14': 19, 'user15': 30, 'user16': 18, 'user17': 28, 'user18': 13, 'user19': 24, 'user20': 28, 'user21': 4, 'user22': 25, 'user23': 30, 'user24': 15, 'user25': 32}\n",
            "{'id': '2075-0', 'user1': 20, 'user2': 11, 'user3': 13, 'user4': 31, 'user5': 5, 'user6': 16, 'user7': 28, 'user8': 6, 'user9': 27, 'user10': 25, 'user11': 22, 'user12': 23, 'user13': 7, 'user14': 12, 'user15': 7, 'user16': 26, 'user17': 18, 'user18': 4, 'user19': 32, 'user20': 7, 'user21': 28, 'user22': 26, 'user23': 22, 'user24': 23, 'user25': 7}\n",
            "{'id': '933-2', 'user1': 49, 'user2': 49, 'user3': 49, 'user4': 49, 'user5': 49, 'user6': 49, 'user7': 49, 'user8': 49, 'user9': 49, 'user10': 49, 'user11': 49, 'user12': 49, 'user13': 49, 'user14': 49, 'user15': 49, 'user16': 49, 'user17': 49, 'user18': 49, 'user19': 49, 'user20': 49, 'user21': 49, 'user22': 49, 'user23': 49, 'user24': 49, 'user25': 49}\n",
            "{'id': '2132-9', 'user1': 50, 'user2': 50, 'user3': 50, 'user4': 50, 'user5': 50, 'user6': 50, 'user7': 50, 'user8': 50, 'user9': 50, 'user10': 50, 'user11': 50, 'user12': 50, 'user13': 50, 'user14': 50, 'user15': 50, 'user16': 50, 'user17': 50, 'user18': 50, 'user19': 50, 'user20': 50, 'user21': 50, 'user22': 50, 'user23': 50, 'user24': 50, 'user25': 50}\n",
            "{'id': '19080-1', 'user1': 14, 'user2': 17, 'user3': 14, 'user4': 11, 'user5': 9, 'user6': 31, 'user7': 16, 'user8': 21, 'user9': 22, 'user10': 26, 'user11': 23, 'user12': 16, 'user13': 25, 'user14': 14, 'user15': 24, 'user16': 19, 'user17': 23, 'user18': 27, 'user19': 12, 'user20': 11, 'user21': 32, 'user22': 19, 'user23': 6, 'user24': 6, 'user25': 33}\n",
            "{'id': '26478-8', 'user1': 51, 'user2': 51, 'user3': 51, 'user4': 51, 'user5': 51, 'user6': 51, 'user7': 51, 'user8': 51, 'user9': 51, 'user10': 51, 'user11': 51, 'user12': 51, 'user13': 51, 'user14': 51, 'user15': 51, 'user16': 51, 'user17': 51, 'user18': 51, 'user19': 51, 'user20': 51, 'user21': 51, 'user22': 51, 'user23': 51, 'user24': 51, 'user25': 51}\n",
            "{'id': '14747-0', 'user1': 52, 'user2': 52, 'user3': 52, 'user4': 52, 'user5': 52, 'user6': 52, 'user7': 52, 'user8': 52, 'user9': 52, 'user10': 52, 'user11': 52, 'user12': 52, 'user13': 52, 'user14': 52, 'user15': 52, 'user16': 52, 'user17': 52, 'user18': 52, 'user19': 52, 'user20': 52, 'user21': 52, 'user22': 52, 'user23': 52, 'user24': 52, 'user25': 52}\n",
            "{'id': '20565-8', 'user1': 53, 'user2': 53, 'user3': 53, 'user4': 53, 'user5': 53, 'user6': 53, 'user7': 53, 'user8': 53, 'user9': 53, 'user10': 53, 'user11': 53, 'user12': 53, 'user13': 53, 'user14': 53, 'user15': 53, 'user16': 53, 'user17': 53, 'user18': 53, 'user19': 53, 'user20': 53, 'user21': 53, 'user22': 53, 'user23': 53, 'user24': 53, 'user25': 53}\n",
            "{'id': '2028-9', 'user1': 8, 'user2': 5, 'user3': 10, 'user4': 15, 'user5': 18, 'user6': 22, 'user7': 11, 'user8': 25, 'user9': 18, 'user10': 20, 'user11': 6, 'user12': 4, 'user13': 26, 'user14': 33, 'user15': 25, 'user16': 31, 'user17': 12, 'user18': 28, 'user19': 33, 'user20': 29, 'user21': 12, 'user22': 27, 'user23': 14, 'user24': 29, 'user25': 25}\n",
            "{'id': '18955-S', 'user1': 54, 'user2': 54, 'user3': 54, 'user4': 54, 'user5': 54, 'user6': 54, 'user7': 54, 'user8': 54, 'user9': 54, 'user10': 54, 'user11': 54, 'user12': 54, 'user13': 54, 'user14': 54, 'user15': 54, 'user16': 54, 'user17': 54, 'user18': 54, 'user19': 54, 'user20': 54, 'user21': 54, 'user22': 54, 'user23': 54, 'user24': 54, 'user25': 54}\n",
            "{'id': '2093-3', 'user1': 26, 'user2': 12, 'user3': 21, 'user4': 6, 'user5': 19, 'user6': 11, 'user7': 17, 'user8': 28, 'user9': 23, 'user10': 30, 'user11': 13, 'user12': 24, 'user13': 18, 'user14': 20, 'user15': 8, 'user16': 6, 'user17': 13, 'user18': 20, 'user19': 6, 'user20': 26, 'user21': 13, 'user22': 31, 'user23': 15, 'user24': 7, 'user25': 8}\n",
            "{'id': '18998-5', 'user1': 55, 'user2': 55, 'user3': 55, 'user4': 55, 'user5': 55, 'user6': 55, 'user7': 55, 'user8': 55, 'user9': 55, 'user10': 55, 'user11': 55, 'user12': 55, 'user13': 55, 'user14': 55, 'user15': 55, 'user16': 55, 'user17': 55, 'user18': 55, 'user19': 55, 'user20': 55, 'user21': 55, 'user22': 55, 'user23': 55, 'user24': 55, 'user25': 55}\n",
            "{'id': '890-4', 'user1': 21, 'user2': 29, 'user3': 30, 'user4': 17, 'user5': 20, 'user6': 27, 'user7': 29, 'user8': 11, 'user9': 7, 'user10': 7, 'user11': 24, 'user12': 5, 'user13': 19, 'user14': 7, 'user15': 16, 'user16': 27, 'user17': 14, 'user18': 5, 'user19': 31, 'user20': 12, 'user21': 14, 'user22': 32, 'user23': 23, 'user24': 9, 'user25': 21}\n",
            "{'id': '14764-5', 'user1': 15, 'user2': 26, 'user3': 25, 'user4': 23, 'user5': 6, 'user6': 28, 'user7': 30, 'user8': 17, 'user9': 32, 'user10': 8, 'user11': 7, 'user12': 11, 'user13': 20, 'user14': 8, 'user15': 9, 'user16': 20, 'user17': 31, 'user18': 14, 'user19': 20, 'user20': 13, 'user21': 24, 'user22': 9, 'user23': 27, 'user24': 8, 'user25': 4}\n",
            "{'id': '2143-6', 'user1': 9, 'user2': 30, 'user3': 26, 'user4': 24, 'user5': 14, 'user6': 23, 'user7': 33, 'user8': 29, 'user9': 8, 'user10': 9, 'user11': 8, 'user12': 28, 'user13': 21, 'user14': 9, 'user15': 31, 'user16': 32, 'user17': 19, 'user18': 15, 'user19': 13, 'user20': 8, 'user21': 29, 'user22': 17, 'user23': 31, 'user24': 24, 'user25': 26}\n",
            "{'id': '2039-6', 'user1': 6, 'user2': 31, 'user3': 31, 'user4': 32, 'user5': 21, 'user6': 24, 'user7': 8, 'user8': 7, 'user9': 9, 'user10': 10, 'user11': 14, 'user12': 29, 'user13': 8, 'user14': 15, 'user15': 26, 'user16': 7, 'user17': 20, 'user18': 6, 'user19': 21, 'user20': 14, 'user21': 25, 'user22': 28, 'user23': 19, 'user24': 16, 'user25': 9}\n",
            "{'id': '1971-1', 'user1': 2, 'user2': 1, 'user3': 2, 'user4': 4, 'user5': 7, 'user6': 1, 'user7': 3, 'user8': 2, 'user9': 1, 'user10': 11, 'user11': 3, 'user12': 2, 'user13': 3, 'user14': 13, 'user15': 1, 'user16': 3, 'user17': 2, 'user18': 7, 'user19': 14, 'user20': 3, 'user21': 5, 'user22': 3, 'user23': 4, 'user24': 4, 'user25': 1}\n",
            "{'id': '18906-8', 'user1': 56, 'user2': 56, 'user3': 56, 'user4': 56, 'user5': 56, 'user6': 56, 'user7': 56, 'user8': 56, 'user9': 56, 'user10': 56, 'user11': 56, 'user12': 56, 'user13': 56, 'user14': 56, 'user15': 56, 'user16': 56, 'user17': 56, 'user18': 56, 'user19': 56, 'user20': 56, 'user21': 56, 'user22': 56, 'user23': 56, 'user24': 56, 'user25': 56}\n",
            "{'id': '6768-6', 'user1': 33, 'user2': 32, 'user3': 15, 'user4': 18, 'user5': 30, 'user6': 32, 'user7': 9, 'user8': 30, 'user9': 16, 'user10': 12, 'user11': 15, 'user12': 25, 'user13': 31, 'user14': 21, 'user15': 10, 'user16': 11, 'user17': 15, 'user18': 16, 'user19': 7, 'user20': 9, 'user21': 6, 'user22': 10, 'user23': 24, 'user24': 10, 'user25': 10}\n",
            "{'id': '1988-5', 'user1': 27, 'user2': 33, 'user3': 11, 'user4': 12, 'user5': 22, 'user6': 5, 'user7': 18, 'user8': 31, 'user9': 10, 'user10': 31, 'user11': 16, 'user12': 30, 'user13': 9, 'user14': 16, 'user15': 11, 'user16': 21, 'user17': 24, 'user18': 21, 'user19': 8, 'user20': 15, 'user21': 20, 'user22': 18, 'user23': 7, 'user24': 20, 'user25': 5}\n",
            "{'id': '74774-1', 'user1': 16, 'user2': 20, 'user3': 16, 'user4': 25, 'user5': 10, 'user6': 12, 'user7': 12, 'user8': 8, 'user9': 28, 'user10': 13, 'user11': 28, 'user12': 19, 'user13': 16, 'user14': 10, 'user15': 27, 'user16': 12, 'user17': 25, 'user18': 32, 'user19': 22, 'user20': 30, 'user21': 33, 'user22': 22, 'user23': 16, 'user24': 11, 'user25': 15}\n",
            "{'id': '1995-0', 'user1': 10, 'user2': 21, 'user3': 22, 'user4': 7, 'user5': 15, 'user6': 13, 'user7': 19, 'user8': 12, 'user9': 24, 'user10': 18, 'user11': 9, 'user12': 12, 'user13': 32, 'user14': 25, 'user15': 28, 'user16': 22, 'user17': 26, 'user18': 22, 'user19': 9, 'user20': 31, 'user21': 15, 'user22': 33, 'user23': 17, 'user24': 30, 'user25': 27}\n",
            "{'id': '1759-0', 'user1': 17, 'user2': 6, 'user3': 17, 'user4': 33, 'user5': 11, 'user6': 6, 'user7': 24, 'user8': 13, 'user9': 25, 'user10': 27, 'user11': 17, 'user12': 31, 'user13': 10, 'user14': 26, 'user15': 12, 'user16': 13, 'user17': 21, 'user18': 29, 'user19': 25, 'user20': 10, 'user21': 7, 'user22': 29, 'user23': 20, 'user24': 31, 'user25': 28}\n",
            "{'id': '20629-2', 'user1': 57, 'user2': 57, 'user3': 57, 'user4': 57, 'user5': 57, 'user6': 57, 'user7': 57, 'user8': 57, 'user9': 57, 'user10': 57, 'user11': 57, 'user12': 57, 'user13': 57, 'user14': 57, 'user15': 57, 'user16': 57, 'user17': 57, 'user18': 57, 'user19': 57, 'user20': 57, 'user21': 57, 'user22': 57, 'user23': 57, 'user24': 57, 'user25': 57}\n",
            "{'id': '1968-7', 'user1': 4, 'user2': 13, 'user3': 1, 'user4': 3, 'user5': 1, 'user6': 2, 'user7': 1, 'user8': 3, 'user9': 3, 'user10': 1, 'user11': 1, 'user12': 6, 'user13': 4, 'user14': 3, 'user15': 3, 'user16': 4, 'user17': 3, 'user18': 1, 'user19': 3, 'user20': 4, 'user21': 2, 'user22': 2, 'user23': 1, 'user24': 1, 'user25': 11}\n",
            "{'id': '35192-4', 'user1': 1, 'user2': 3, 'user3': 4, 'user4': 2, 'user5': 2, 'user6': 14, 'user7': 2, 'user8': 4, 'user9': 2, 'user10': 3, 'user11': 4, 'user12': 7, 'user13': 1, 'user14': 2, 'user15': 17, 'user16': 1, 'user17': 1, 'user18': 8, 'user19': 2, 'user20': 1, 'user21': 16, 'user22': 4, 'user23': 3, 'user24': 3, 'user25': 2}\n",
            "{'id': '883-9', 'user1': 58, 'user2': 58, 'user3': 58, 'user4': 58, 'user5': 58, 'user6': 58, 'user7': 58, 'user8': 58, 'user9': 58, 'user10': 58, 'user11': 58, 'user12': 58, 'user13': 58, 'user14': 58, 'user15': 58, 'user16': 58, 'user17': 58, 'user18': 58, 'user19': 58, 'user20': 58, 'user21': 58, 'user22': 58, 'user23': 58, 'user24': 58, 'user25': 58}\n",
            "{'id': '1003-3', 'user1': 28, 'user2': 18, 'user3': 7, 'user4': 13, 'user5': 23, 'user6': 15, 'user7': 25, 'user8': 18, 'user9': 33, 'user10': 32, 'user11': 18, 'user12': 32, 'user13': 12, 'user14': 11, 'user15': 32, 'user16': 14, 'user17': 16, 'user18': 17, 'user19': 10, 'user20': 32, 'user21': 21, 'user22': 20, 'user23': 32, 'user24': 32, 'user25': 6}\n",
            "{'id': '54439-5', 'user1': 11, 'user2': 14, 'user3': 32, 'user4': 19, 'user5': 16, 'user6': 25, 'user7': 10, 'user8': 32, 'user9': 29, 'user10': 21, 'user11': 25, 'user12': 26, 'user13': 17, 'user14': 27, 'user15': 33, 'user16': 28, 'user17': 22, 'user18': 24, 'user19': 26, 'user20': 33, 'user21': 30, 'user22': 21, 'user23': 8, 'user24': 21, 'user25': 16}\n",
            "{'id': '3082-S', 'user1': 12, 'user2': 15, 'user3': 23, 'user4': 20, 'user5': 24, 'user6': 29, 'user7': 20, 'user8': 22, 'user9': 19, 'user10': 33, 'user11': 33, 'user12': 13, 'user13': 27, 'user14': 17, 'user15': 18, 'user16': 33, 'user17': 32, 'user18': 23, 'user19': 27, 'user20': 16, 'user21': 17, 'user22': 11, 'user23': 25, 'user24': 33, 'user25': 17}\n",
            "{'id': '30522-7', 'user1': 13, 'user2': 27, 'user3': 8, 'user4': 8, 'user5': 31, 'user6': 17, 'user7': 21, 'user8': 33, 'user9': 30, 'user10': 28, 'user11': 31, 'user12': 33, 'user13': 11, 'user14': 22, 'user15': 29, 'user16': 23, 'user17': 29, 'user18': 33, 'user19': 28, 'user20': 19, 'user21': 22, 'user22': 23, 'user23': 33, 'user24': 17, 'user25': 22}\n",
            "{'id': '10331-7', 'user1': 59, 'user2': 59, 'user3': 59, 'user4': 59, 'user5': 59, 'user6': 59, 'user7': 59, 'user8': 59, 'user9': 59, 'user10': 59, 'user11': 59, 'user12': 59, 'user13': 59, 'user14': 59, 'user15': 59, 'user16': 59, 'user17': 59, 'user18': 59, 'user19': 59, 'user20': 59, 'user21': 59, 'user22': 59, 'user23': 59, 'user24': 59, 'user25': 59}\n",
            "{'id': '26474-7', 'user1': 60, 'user2': 60, 'user3': 60, 'user4': 60, 'user5': 60, 'user6': 60, 'user7': 60, 'user8': 60, 'user9': 60, 'user10': 60, 'user11': 60, 'user12': 60, 'user13': 60, 'user14': 60, 'user15': 60, 'user16': 60, 'user17': 60, 'user18': 60, 'user19': 60, 'user20': 60, 'user21': 60, 'user22': 60, 'user23': 60, 'user24': 60, 'user25': 60}\n",
            "{'id': '8310-5', 'user1': 61, 'user2': 61, 'user3': 61, 'user4': 61, 'user5': 61, 'user6': 61, 'user7': 61, 'user8': 61, 'user9': 61, 'user10': 61, 'user11': 61, 'user12': 61, 'user13': 61, 'user14': 61, 'user15': 61, 'user16': 61, 'user17': 61, 'user18': 61, 'user19': 61, 'user20': 61, 'user21': 61, 'user22': 61, 'user23': 61, 'user24': 61, 'user25': 61}\n",
            "{'id': '31100-1', 'user1': 62, 'user2': 62, 'user3': 62, 'user4': 62, 'user5': 62, 'user6': 62, 'user7': 62, 'user8': 62, 'user9': 62, 'user10': 62, 'user11': 62, 'user12': 62, 'user13': 62, 'user14': 62, 'user15': 62, 'user16': 62, 'user17': 62, 'user18': 62, 'user19': 62, 'user20': 62, 'user21': 62, 'user22': 62, 'user23': 62, 'user24': 62, 'user25': 62}\n",
            "{'id': '882-1', 'user1': 63, 'user2': 63, 'user3': 63, 'user4': 63, 'user5': 63, 'user6': 63, 'user7': 63, 'user8': 63, 'user9': 63, 'user10': 63, 'user11': 63, 'user12': 63, 'user13': 63, 'user14': 63, 'user15': 63, 'user16': 63, 'user17': 63, 'user18': 63, 'user19': 63, 'user20': 63, 'user21': 63, 'user22': 63, 'user23': 63, 'user24': 63, 'user25': 63}\n",
            "{'id': '26484-6', 'user1': 64, 'user2': 64, 'user3': 64, 'user4': 64, 'user5': 64, 'user6': 64, 'user7': 64, 'user8': 64, 'user9': 64, 'user10': 64, 'user11': 64, 'user12': 64, 'user13': 64, 'user14': 64, 'user15': 64, 'user16': 64, 'user17': 64, 'user18': 64, 'user19': 64, 'user20': 64, 'user21': 64, 'user22': 64, 'user23': 64, 'user24': 64, 'user25': 64}\n",
            "{'id': '1250-0', 'user1': 65, 'user2': 65, 'user3': 65, 'user4': 65, 'user5': 65, 'user6': 65, 'user7': 65, 'user8': 65, 'user9': 65, 'user10': 65, 'user11': 65, 'user12': 65, 'user13': 65, 'user14': 65, 'user15': 65, 'user16': 65, 'user17': 65, 'user18': 65, 'user19': 65, 'user20': 65, 'user21': 65, 'user22': 65, 'user23': 65, 'user24': 65, 'user25': 65}\n",
            "{'id': '18864-9', 'user1': 66, 'user2': 66, 'user3': 66, 'user4': 66, 'user5': 66, 'user6': 66, 'user7': 66, 'user8': 66, 'user9': 66, 'user10': 66, 'user11': 66, 'user12': 66, 'user13': 66, 'user14': 66, 'user15': 66, 'user16': 66, 'user17': 66, 'user18': 66, 'user19': 66, 'user20': 66, 'user21': 66, 'user22': 66, 'user23': 66, 'user24': 66, 'user25': 66}\n",
            "{'id': '1742-6', 'user1': 18, 'user2': 7, 'user3': 33, 'user4': 26, 'user5': 33, 'user6': 33, 'user7': 22, 'user8': 26, 'user9': 11, 'user10': 14, 'user11': 29, 'user12': 8, 'user13': 33, 'user14': 28, 'user15': 19, 'user16': 15, 'user17': 33, 'user18': 18, 'user19': 15, 'user20': 20, 'user21': 18, 'user22': 24, 'user23': 9, 'user24': 12, 'user25': 12}\n",
            "{'id': '18865-6', 'user1': 67, 'user2': 67, 'user3': 67, 'user4': 67, 'user5': 67, 'user6': 67, 'user7': 67, 'user8': 67, 'user9': 67, 'user10': 67, 'user11': 67, 'user12': 67, 'user13': 67, 'user14': 67, 'user15': 67, 'user16': 67, 'user17': 67, 'user18': 67, 'user19': 67, 'user20': 67, 'user21': 67, 'user22': 67, 'user23': 67, 'user24': 67, 'user25': 67}\n"
          ],
          "name": "stdout"
        }
      ]
    },
    {
      "cell_type": "markdown",
      "metadata": {
        "id": "2YgZeFdZ5XBa",
        "colab_type": "text"
      },
      "source": [
        "## Feature Extraction"
      ]
    },
    {
      "cell_type": "markdown",
      "metadata": {
        "id": "jTOPqZAe5j-q",
        "colab_type": "text"
      },
      "source": [
        "### Cosine"
      ]
    },
    {
      "cell_type": "code",
      "metadata": {
        "id": "E-E63FyS5ltR",
        "colab_type": "code",
        "colab": {}
      },
      "source": [
        "import math\n",
        "import re\n",
        "from collections import Counter\n",
        "\n",
        "\n",
        "WORD = re.compile(r\"\\w+\")\n",
        "\n",
        "\n",
        "def get_cosine(vec1, vec2):\n",
        "    intersection = set(vec1.keys()) & set(vec2.keys())\n",
        "    numerator = sum([vec1[x] * vec2[x] for x in intersection])\n",
        "\n",
        "    sum1 = sum([vec1[x] ** 2 for x in list(vec1.keys())])\n",
        "    sum2 = sum([vec2[x] ** 2 for x in list(vec2.keys())])\n",
        "    denominator = math.sqrt(sum1) * math.sqrt(sum2)\n",
        "\n",
        "    if not denominator:\n",
        "        return 0.0\n",
        "    else:\n",
        "        return float(numerator) / denominator\n",
        "\n",
        "\n",
        "def text_to_vector(text):\n",
        "    words = WORD.findall(text)\n",
        "    return Counter(words)"
      ],
      "execution_count": 0,
      "outputs": []
    },
    {
      "cell_type": "code",
      "metadata": {
        "id": "gPMdI76e5ony",
        "colab_type": "code",
        "colab": {
          "base_uri": "https://localhost:8080/",
          "height": 1000
        },
        "outputId": "8bc4f1d9-6ad1-4631-8e8b-71a53ff27712"
      },
      "source": [
        "vector1 = text_to_vector(names[0])\n",
        "\n",
        "for name in names[1:]:\n",
        "  vector2 = text_to_vector(name)\n",
        "  cosine = get_cosine(vector1, vector2)\n",
        "  print(cosine)"
      ],
      "execution_count": 26,
      "outputs": [
        {
          "output_type": "stream",
          "text": [
            "0.12909944487358058\n",
            "0.3086066999241838\n",
            "0.0\n",
            "0.0\n",
            "0.1543033499620919\n",
            "0.13608276348795434\n",
            "0.0\n",
            "0.10540925533894598\n",
            "0.1543033499620919\n",
            "0.36927447293799825\n",
            "0.18257418583505536\n",
            "0.11785113019775793\n",
            "0.23570226039551587\n",
            "0.18257418583505536\n",
            "0.0\n",
            "0.16666666666666669\n",
            "0.14433756729740646\n",
            "0.18257418583505536\n",
            "0.2886751345948129\n",
            "0.0\n",
            "0.12309149097933275\n",
            "0.0\n",
            "0.16666666666666669\n",
            "0.18257418583505536\n",
            "0.13608276348795434\n",
            "0.1543033499620919\n",
            "0.1543033499620919\n",
            "0.0\n",
            "0.1543033499620919\n",
            "0.1543033499620919\n",
            "0.18257418583505536\n",
            "0.16666666666666669\n",
            "0.3086066999241838\n",
            "0.2721655269759087\n",
            "0.0\n",
            "0.1543033499620919\n",
            "0.0\n",
            "0.2721655269759087\n",
            "0.1091089451179962\n",
            "0.1543033499620919\n",
            "0.14433756729740646\n",
            "0.14433756729740646\n",
            "0.0\n",
            "0.13608276348795434\n",
            "0.13608276348795434\n",
            "0.14433756729740646\n",
            "0.14433756729740646\n",
            "0.14433756729740646\n",
            "0.0\n",
            "0.14433756729740646\n",
            "0.11785113019775793\n",
            "0.18257418583505536\n",
            "0.2461829819586655\n",
            "0.18257418583505536\n",
            "0.16666666666666669\n",
            "0.11322770341445959\n",
            "0.20412414523193154\n",
            "0.18257418583505536\n",
            "0.0\n",
            "0.0\n",
            "0.16666666666666669\n",
            "0.18257418583505536\n",
            "0.0\n",
            "0.0\n",
            "0.13608276348795434\n",
            "0.0\n"
          ],
          "name": "stdout"
        }
      ]
    },
    {
      "cell_type": "markdown",
      "metadata": {
        "id": "WOm5n1Sd_pcp",
        "colab_type": "text"
      },
      "source": [
        "## Pairwise"
      ]
    },
    {
      "cell_type": "code",
      "metadata": {
        "id": "ifAd2NvFAJwM",
        "colab_type": "code",
        "colab": {}
      },
      "source": [
        "import itertools\n",
        "import numpy as np\n",
        "\n",
        "from sklearn import svm, linear_model\n",
        "from sklearn.model_selection import train_test_split"
      ],
      "execution_count": 0,
      "outputs": []
    },
    {
      "cell_type": "code",
      "metadata": {
        "id": "MEeR-ewE__7l",
        "colab_type": "code",
        "colab": {}
      },
      "source": [
        "def transform_pairwise(X, y):\n",
        "    \"\"\"Transforms data into pairs with balanced labels for ranking\n",
        "    Transforms a n-class ranking problem into a two-class classification\n",
        "    problem. Subclasses implementing particular strategies for choosing\n",
        "    pairs should override this method.\n",
        "    In this method, all pairs are choosen, except for those that have the\n",
        "    same target value. The output is an array of balanced classes, i.e.\n",
        "    there are the same number of -1 as +1\n",
        "    Parameters\n",
        "    ----------\n",
        "    X : array, shape (n_samples, n_features)\n",
        "        The data\n",
        "    y : array, shape (n_samples,) or (n_samples, 2)\n",
        "        Target labels. If it's a 2D array, the second column represents\n",
        "        the grouping of samples, i.e., samples with different groups will\n",
        "        not be considered.\n",
        "    Returns\n",
        "    -------\n",
        "    X_trans : array, shape (k, n_feaures)\n",
        "        Data as pairs\n",
        "    y_trans : array, shape (k,)\n",
        "        Output class labels, where classes have values {-1, +1}\n",
        "    \"\"\"\n",
        "    X_new = []\n",
        "    y_new = []\n",
        "    y = np.asarray(y)\n",
        "    if y.ndim == 1:\n",
        "        y = np.c_[y, np.ones(y.shape[0])]\n",
        "    comb = itertools.combinations(range(X.shape[0]), 2)\n",
        "    for k, (i, j) in enumerate(comb):\n",
        "        if y[i, 0] == y[j, 0] or y[i, 1] != y[j, 1]:\n",
        "            # skip if same target or different group\n",
        "            continue\n",
        "        X_new.append(X[i] - X[j])\n",
        "        y_new.append(np.sign(y[i, 0] - y[j, 0]))\n",
        "        # output balanced classes\n",
        "        if y_new[-1] != (-1) ** k:\n",
        "            y_new[-1] = - y_new[-1]\n",
        "            X_new[-1] = - X_new[-1]\n",
        "    return np.asarray(X_new), np.asarray(y_new).ravel()"
      ],
      "execution_count": 0,
      "outputs": []
    },
    {
      "cell_type": "code",
      "metadata": {
        "id": "x8ze1XIm_7_3",
        "colab_type": "code",
        "colab": {}
      },
      "source": [
        "class RankSVM(svm.LinearSVC):\n",
        "    \"\"\"Performs pairwise ranking with an underlying LinearSVC model\n",
        "    Input should be a n-class ranking problem, this object will convert it\n",
        "    into a two-class classification problem, a setting known as\n",
        "    `pairwise ranking`.\n",
        "    See object :ref:`svm.LinearSVC` for a full description of parameters.\n",
        "    \"\"\"\n",
        "\n",
        "    def fit(self, X, y):\n",
        "        \"\"\"\n",
        "        Fit a pairwise ranking model.\n",
        "        Parameters\n",
        "        ----------\n",
        "        X : array, shape (n_samples, n_features)\n",
        "        y : array, shape (n_samples,) or (n_samples, 2)\n",
        "        Returns\n",
        "        -------\n",
        "        self\n",
        "        \"\"\"\n",
        "        X_trans, y_trans = transform_pairwise(X, y)\n",
        "        super(RankSVM, self).fit(X_trans, y_trans)\n",
        "        return self\n",
        "\n",
        "    def decision_function(self, X):\n",
        "        return np.dot(X, self.coef_.ravel())\n",
        "\n",
        "    def predict(self, X):\n",
        "        \"\"\"\n",
        "        Predict an ordering on X. For a list of n samples, this method\n",
        "        returns a list from 0 to n-1 with the relative order of the rows of X.\n",
        "        The item is given such that items ranked on top have are\n",
        "        predicted a higher ordering (i.e. 0 means is the last item\n",
        "        and n_samples would be the item ranked on top).\n",
        "        Parameters\n",
        "        ----------\n",
        "        X : array, shape (n_samples, n_features)\n",
        "        Returns\n",
        "        -------\n",
        "        ord : array, shape (n_samples,)\n",
        "            Returns a list of integers representing the relative order of\n",
        "            the rows in X.\n",
        "        \"\"\"\n",
        "        if hasattr(self, 'coef_'):\n",
        "            return np.argsort(np.dot(X, self.coef_.ravel()))\n",
        "        else:\n",
        "            raise ValueError(\"Must call fit() prior to predict()\")\n",
        "\n",
        "    def score(self, X, y):\n",
        "        \"\"\"\n",
        "        Because we transformed into a pairwise problem, chance level is at 0.5\n",
        "        \"\"\"\n",
        "        X_trans, y_trans = transform_pairwise(X, y)\n",
        "        return np.mean(super(RankSVM, self).predict(X_trans) == y_trans)"
      ],
      "execution_count": 0,
      "outputs": []
    },
    {
      "cell_type": "code",
      "metadata": {
        "id": "Gt6BOCe6PPpG",
        "colab_type": "code",
        "colab": {}
      },
      "source": [
        "def get_features(query):\n",
        "  features = []\n",
        "  \n",
        "  for name in names:\n",
        "    feature_vector = [get_cosine(text_to_vector(name), query)]\n",
        "    features.append(feature_vector)\n",
        "\n",
        "  return features"
      ],
      "execution_count": 0,
      "outputs": []
    },
    {
      "cell_type": "code",
      "metadata": {
        "id": "OBXVThbPAEEU",
        "colab_type": "code",
        "colab": {
          "base_uri": "https://localhost:8080/",
          "height": 85
        },
        "outputId": "f9c7b245-38bd-4b3b-ca02-eb09cbf3a7a1"
      },
      "source": [
        "rank_svm = RankSVM()\n",
        "\n",
        "# Train SVM\n",
        "features = []\n",
        "for name in names:\n",
        "  feature_vector = [get_cosine(text_to_vector(name), text_to_vector(\"Glucose in blood\"))]\n",
        "  features.append(feature_vector)\n",
        "\n",
        "X = np.array(features)\n",
        "Y = np.array(user_query_scores['query1-user1'])\n",
        "rank_svm.fit(X, Y)"
      ],
      "execution_count": 91,
      "outputs": [
        {
          "output_type": "execute_result",
          "data": {
            "text/plain": [
              "RankSVM(C=1.0, class_weight=None, dual=True, fit_intercept=True,\n",
              "        intercept_scaling=1, loss='squared_hinge', max_iter=1000,\n",
              "        multi_class='ovr', penalty='l2', random_state=None, tol=0.0001,\n",
              "        verbose=0)"
            ]
          },
          "metadata": {
            "tags": []
          },
          "execution_count": 91
        }
      ]
    },
    {
      "cell_type": "code",
      "metadata": {
        "id": "yUNcP9fuMsEe",
        "colab_type": "code",
        "colab": {
          "base_uri": "https://localhost:8080/",
          "height": 187
        },
        "outputId": "407dca99-6f14-4e9e-a244-1f6b768ffe75"
      },
      "source": [
        "## Test with query 1\n",
        "query1 = text_to_vector(\"Glucose in blood\")\n",
        "result = rank_svm.predict(get_features(query1))\n",
        "for index in result[:10]:\n",
        "  print(names[index])"
      ],
      "execution_count": 97,
      "outputs": [
        {
          "output_type": "stream",
          "text": [
            "Glucose [Moles/volume] in Urine\n",
            "Glucose [Moles/volume] in Pleural ﬂuid\n",
            "Glucose [Moles/volume] in Serum or Plasma\n",
            "Glucose [Mass/volume] in Serum Plasma or Blood\n",
            "Cholesterol in l-iDL [Mass/volume] in Serum or Plasma\n",
            "Glucose [Moles/volume] in Serum or Plasma --3 hours post 100 g glucose PO\n",
            "Rh [Type] in Blood\n",
            "Monocytes [ll/volume] in Blood\n",
            "Lymphocytes [ll/volume] in Blood\n",
            "Lymphocytes/100 leukocytes in Blood\n"
          ],
          "name": "stdout"
        }
      ]
    },
    {
      "cell_type": "code",
      "metadata": {
        "id": "q2BGVjIyM1rV",
        "colab_type": "code",
        "colab": {
          "base_uri": "https://localhost:8080/",
          "height": 187
        },
        "outputId": "55b89522-fc98-44c2-a131-e1c240115ebf"
      },
      "source": [
        "## Test with query 2\n",
        "query2 = text_to_vector(\"Bilirubin in plasma\")\n",
        "result = rank_svm.predict(get_features(query2))\n",
        "for index in result[:10]:\n",
        "  print(names[index])"
      ],
      "execution_count": 100,
      "outputs": [
        {
          "output_type": "stream",
          "text": [
            "Bilirubin total [Mass/volume] in Synovial fluid\n",
            "Bilirubin indirect [Mass/volume] in Serum or Plasma\n",
            "Bilirubin direct [Mass/volume] in Serum or Plasma\n",
            "Bilirubin total [Mass/volume] in Serum or Plasma\n",
            "Cholesterol in l-iDL [Mass/volume] in Serum or Plasma\n",
            "Bilirubin indirect [Mass or Moles/volume] in Serum or Plasma\n",
            "Rh [Type] in Blood\n",
            "Leukocytes [ll/volume] in Blood\n",
            "Lymphocytes/100 leukocytes in Blood\n",
            "Glucose [Moles/volume] in Urine\n"
          ],
          "name": "stdout"
        }
      ]
    },
    {
      "cell_type": "code",
      "metadata": {
        "id": "1UhXlMGWM2XR",
        "colab_type": "code",
        "colab": {
          "base_uri": "https://localhost:8080/",
          "height": 187
        },
        "outputId": "d3d02446-48c6-4a70-cd83-0237ae03a4f8"
      },
      "source": [
        "## Test with query 3\n",
        "query3 = text_to_vector(\"White blood cells count\")\n",
        "result = rank_svm.predict(get_features(query3))\n",
        "for index in result[:10]:\n",
        "  print(names[index])"
      ],
      "execution_count": 99,
      "outputs": [
        {
          "output_type": "stream",
          "text": [
            "Billrubin total [Presence] in Unspecfied specimen\n",
            "Nitrofurantoin [Susceptibility]\n",
            "Cholesterol [Mass/volume] in Serum or Plasma\n",
            "Trimethoprim+Sulfamethoxazole [Susceptibility]\n",
            "Blood group antibody screen [Presence] in Serum or Plasma\n",
            "Glucose [Moles/volume] in Serum or Plasma --3 hours post 100 g glucose PO\n",
            "Cortisol [Mass/volume] in Serum or Plasma\n",
            "Carcinoembryonic Ag [Mass/volume] in Serum or Plasma\n",
            "Bilirubin indirect [Mass/volume] in Serum or Plasma\n",
            "Ciproﬂoxacin [Susceptibility]\n"
          ],
          "name": "stdout"
        }
      ]
    }
  ]
}